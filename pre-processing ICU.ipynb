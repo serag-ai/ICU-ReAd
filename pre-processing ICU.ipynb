{
  "cells": [
    {
      "cell_type": "markdown",
      "id": "38771d01",
      "metadata": {
        "id": "38771d01"
      },
      "source": [
        "# MultiTask Random Forest, SVM and LSTM"
      ]
    },
    {
      "cell_type": "code",
      "execution_count": null,
      "id": "70d03cd5-63fc-436f-9ac0-22f1b70d0c48",
      "metadata": {
        "id": "70d03cd5-63fc-436f-9ac0-22f1b70d0c48"
      },
      "outputs": [],
      "source": [
        "import os\n",
        "import numpy as np\n",
        "import pandas as pd\n",
        "from functools import reduce\n",
        "import matplotlib.pyplot as plt\n",
        "import seaborn as sns\n",
        "\n",
        "from sklearn.ensemble import RandomForestClassifier\n",
        "from sklearn.ensemble import RandomForestRegressor\n",
        "from sklearn.svm import SVC\n",
        "from sklearn.preprocessing import StandardScaler,MinMaxScaler, Normalizer,OneHotEncoder\n",
        "\n",
        "\n",
        "\n",
        "#metrics\n",
        "from sklearn.model_selection import StratifiedKFold, GridSearchCV, RepeatedKFold, RepeatedStratifiedKFold\n",
        "from sklearn.model_selection import RandomizedSearchCV, train_test_split, cross_val_score,cross_validate\n",
        "from scipy.stats import randint\n",
        "from sklearn.metrics import classification_report,mean_squared_error\n",
        "from sklearn.metrics import accuracy_score, f1_score, confusion_matrix, precision_score, recall_score, ConfusionMatrixDisplay\n",
        "from sklearn.metrics import roc_auc_score, roc_curve, RocCurveDisplay\n",
        "from sklearn.metrics import PrecisionRecallDisplay"
      ]
    },
    {
      "cell_type": "code",
      "execution_count": null,
      "id": "aaa1a265-4989-4809-8bba-eae6444ce09c",
      "metadata": {
        "id": "aaa1a265-4989-4809-8bba-eae6444ce09c"
      },
      "outputs": [],
      "source": [
        "path =r'patient.csv'\n",
        "file = open(path)\n",
        "df_patient = pd.read_csv(file)\n",
        "path1 = r\"pastHistory.csv\"\n",
        "file1 = open (path1)\n",
        "df_pasthis = pd.read_csv(file1)\n",
        "path2 =r\"diagnosis.csv\"\n",
        "file1 = open (path1)\n",
        "file2 = open (path2)\n",
        "df_diag = pd.read_csv(file2)"
      ]
    },
    {
      "cell_type": "code",
      "execution_count": null,
      "id": "58af09ca",
      "metadata": {
        "id": "58af09ca",
        "outputId": "6daa6e23-5ddc-4a05-8674-5feb2fbe746c"
      },
      "outputs": [
        {
          "data": {
            "text/plain": [
              "021-239346    26\n",
              "021-120471    26\n",
              "006-181132    24\n",
              "006-100497    24\n",
              "015-76326     24\n",
              "              ..\n",
              "015-78659      1\n",
              "015-91151      1\n",
              "015-54973      1\n",
              "015-50909      1\n",
              "015-95573      1\n",
              "Name: uniquepid, Length: 139367, dtype: int64"
            ]
          },
          "execution_count": 126,
          "metadata": {},
          "output_type": "execute_result"
        }
      ],
      "source": [
        "df_patient.uniquepid.value_counts()"
      ]
    },
    {
      "cell_type": "code",
      "execution_count": null,
      "id": "796922ad",
      "metadata": {
        "id": "796922ad",
        "outputId": "9362abb3-6617-4683-8228-6d988af6b238"
      },
      "outputs": [
        {
          "data": {
            "text/plain": [
              "Index(['patientunitstayid', 'patienthealthsystemstayid', 'gender', 'age',\n",
              "       'ethnicity', 'hospitalid', 'wardid', 'apacheadmissiondx',\n",
              "       'admissionheight', 'hospitaladmittime24', 'hospitaladmitoffset',\n",
              "       'hospitaladmitsource', 'hospitaldischargeyear',\n",
              "       'hospitaldischargetime24', 'hospitaldischargeoffset',\n",
              "       'hospitaldischargelocation', 'hospitaldischargestatus', 'unittype',\n",
              "       'unitadmittime24', 'unitadmitsource', 'unitvisitnumber', 'unitstaytype',\n",
              "       'admissionweight', 'dischargeweight', 'unitdischargetime24',\n",
              "       'unitdischargeoffset', 'unitdischargelocation', 'unitdischargestatus',\n",
              "       'uniquepid'],\n",
              "      dtype='object')"
            ]
          },
          "execution_count": 127,
          "metadata": {},
          "output_type": "execute_result"
        }
      ],
      "source": [
        "df_patient.columns"
      ]
    },
    {
      "cell_type": "code",
      "execution_count": null,
      "id": "a375471e",
      "metadata": {
        "id": "a375471e"
      },
      "outputs": [],
      "source": [
        "nan_indices =  df_patient.apacheadmissiondx.isnull()\n",
        "df_adm = df_patient.loc[nan_indices]"
      ]
    },
    {
      "cell_type": "code",
      "execution_count": null,
      "id": "ee6af7c6",
      "metadata": {
        "id": "ee6af7c6"
      },
      "outputs": [],
      "source": [
        "indexes_to_extract =[0,1,2]\n",
        "extracted_diag = df_diag['diagnosisstring'].str.split('|').apply(lambda x: [x[i] for i in indexes_to_extract])"
      ]
    },
    {
      "cell_type": "code",
      "execution_count": null,
      "id": "fb047cf9",
      "metadata": {
        "id": "fb047cf9"
      },
      "outputs": [],
      "source": [
        "extracted_diag = pd.DataFrame(extracted_diag.tolist(), columns=[f'Value_{i+1}' for i in indexes_to_extract])\n",
        "extracted_diag['patientunitstayid'] = df_diag['patientunitstayid']"
      ]
    },
    {
      "cell_type": "code",
      "execution_count": null,
      "id": "5ef373bc",
      "metadata": {
        "scrolled": false,
        "id": "5ef373bc",
        "outputId": "cd0b6866-1d25-493e-cef6-15d047b1b6cb"
      },
      "outputs": [
        {
          "data": {
            "text/plain": [
              "3086603    4247\n",
              "2747640    3951\n",
              "3097437    3402\n",
              "3064466    3372\n",
              "3035079    3370\n",
              "           ... \n",
              "2894229       1\n",
              "2894245       1\n",
              "2894279       1\n",
              "2894549       1\n",
              "2894580       1\n",
              "Name: patientunitstayid, Length: 173109, dtype: int64"
            ]
          },
          "execution_count": 131,
          "metadata": {},
          "output_type": "execute_result"
        }
      ],
      "source": [
        "extracted_diag[:50]\n",
        "extracted_diag.patientunitstayid.value_counts()"
      ]
    },
    {
      "cell_type": "code",
      "execution_count": null,
      "id": "c595dccf",
      "metadata": {
        "id": "c595dccf"
      },
      "outputs": [],
      "source": [
        "# path3 =r'treatment.csv'\n",
        "# file3 = open(path3)\n",
        "# df_treat = pd.read_csv(file3)"
      ]
    },
    {
      "cell_type": "code",
      "execution_count": null,
      "id": "92e5c30f",
      "metadata": {
        "id": "92e5c30f"
      },
      "outputs": [],
      "source": [
        "# df_treat"
      ]
    },
    {
      "cell_type": "code",
      "execution_count": null,
      "id": "9bf74017",
      "metadata": {
        "id": "9bf74017"
      },
      "outputs": [],
      "source": [
        "# df_treat.patientunitstayid.value_counts()"
      ]
    },
    {
      "cell_type": "code",
      "execution_count": null,
      "id": "0175fa3f",
      "metadata": {
        "id": "0175fa3f"
      },
      "outputs": [],
      "source": [
        "df_pasthis1 = df_pasthis['pasthistorypath'].str.split('Organ Systems/', expand=True)[1]\n",
        "df_pasthis1['pasthistory'] = df_pasthis['pasthistorypath'].str.split('Organ Systems/', expand=True)[1]"
      ]
    },
    {
      "cell_type": "code",
      "execution_count": null,
      "id": "f972d39b",
      "metadata": {
        "id": "f972d39b",
        "outputId": "d4ccb3f5-1476-4380-f203-03eeb64c7abe"
      },
      "outputs": [
        {
          "data": {
            "text/plain": [
              "0                            Cardiovascular (R)/Valve disease/AS\n",
              "1              Renal  (R)/Renal Failure/renal failure- not cu...\n",
              "2              Cardiovascular (R)/Congestive Heart Failure/CH...\n",
              "3                                                           None\n",
              "4              Cardiovascular (R)/Hypertension Requiring Trea...\n",
              "                                     ...                        \n",
              "1149176                                                     None\n",
              "1149177                          Pulmonary/COPD/COPD  - moderate\n",
              "1149178        Cardiovascular (R)/Arrhythmias/atrial fibrilla...\n",
              "1149179                                                     None\n",
              "pasthistory    0                        Cardiovascular (R)/Va...\n",
              "Name: 1, Length: 1149181, dtype: object"
            ]
          },
          "execution_count": 136,
          "metadata": {},
          "output_type": "execute_result"
        }
      ],
      "source": [
        "df_pasthis1"
      ]
    },
    {
      "cell_type": "code",
      "execution_count": null,
      "id": "b231d300",
      "metadata": {
        "id": "b231d300"
      },
      "outputs": [],
      "source": [
        "df_pasthis1 = df_pasthis1.str.split('/', expand=True)\n",
        "df_pasthis1= df_pasthis1.rename(columns={0: 'v1', 1: 'v2', 2: 'v3', 3: 'v4', 4: 'v5', 5: 'v6'})"
      ]
    },
    {
      "cell_type": "code",
      "execution_count": null,
      "id": "71fd333c",
      "metadata": {
        "id": "71fd333c"
      },
      "outputs": [],
      "source": [
        "df_pasthis1['patientunitstayid'] = df_pasthis['patientunitstayid'].astype('int64')"
      ]
    },
    {
      "cell_type": "code",
      "execution_count": null,
      "id": "02c4505d",
      "metadata": {
        "id": "02c4505d"
      },
      "outputs": [],
      "source": [
        "extracted_pasthis = df_pasthis['pasthistorypath'].str.split('/', expand=True)"
      ]
    },
    {
      "cell_type": "code",
      "execution_count": null,
      "id": "716531b0",
      "metadata": {
        "id": "716531b0"
      },
      "outputs": [],
      "source": [
        "indexes_to_extract =[0,1,2,3,4,5,6,7,8,9]\n",
        "extracted_pasthis = pd.DataFrame(extracted_pasthis.values.tolist(), columns=[f'History_Value_{i+1}' for i in indexes_to_extract])\n",
        "extracted_pasthis['patientunitstayid'] = df_pasthis['patientunitstayid']"
      ]
    },
    {
      "cell_type": "code",
      "execution_count": null,
      "id": "11ed4439",
      "metadata": {
        "id": "11ed4439",
        "outputId": "5b292ca5-38fd-406c-89cf-20312f893a5e"
      },
      "outputs": [
        {
          "data": {
            "text/plain": [
              "2747640    1449\n",
              "3097437    1122\n",
              "3064036     944\n",
              "3036894     805\n",
              "3114528     776\n",
              "           ... \n",
              "3352519       1\n",
              "3352526       1\n",
              "3352531       1\n",
              "3352538       1\n",
              "3352563       1\n",
              "Name: patientunitstayid, Length: 176258, dtype: int64"
            ]
          },
          "execution_count": 141,
          "metadata": {},
          "output_type": "execute_result"
        }
      ],
      "source": [
        "extracted_pasthis.patientunitstayid.value_counts()"
      ]
    },
    {
      "cell_type": "code",
      "execution_count": null,
      "id": "7ec20913",
      "metadata": {
        "id": "7ec20913"
      },
      "outputs": [],
      "source": [
        "dfs =[df_patient,extracted_diag, extracted_pasthis]\n",
        "df_patientdiagnose = reduce(lambda  left,right: pd.merge(left,right,on=['patientunitstayid'],\n",
        "                                             how='outer'), dfs)"
      ]
    },
    {
      "cell_type": "code",
      "execution_count": null,
      "id": "408c46be",
      "metadata": {
        "id": "408c46be",
        "outputId": "3fc5f65b-c439-43da-8709-8ff7f8a4d8f6"
      },
      "outputs": [
        {
          "data": {
            "text/plain": [
              "(131970108, 42)"
            ]
          },
          "execution_count": 143,
          "metadata": {},
          "output_type": "execute_result"
        }
      ],
      "source": [
        "df_patientdiagnose.shape"
      ]
    },
    {
      "cell_type": "code",
      "execution_count": null,
      "id": "f7ca48b0",
      "metadata": {
        "id": "f7ca48b0"
      },
      "outputs": [],
      "source": [
        "first_visits = df_patientdiagnose[df_patientdiagnose['unitvisitnumber'] == 1]\n",
        "\n",
        "# Step 2: Filter the first visits to keep only those with an \"Expired\" discharge status\n",
        "expired_after_first_visit = first_visits[first_visits['unitdischargestatus'] == 'Expired']\n"
      ]
    },
    {
      "cell_type": "code",
      "execution_count": null,
      "id": "0d69d63c",
      "metadata": {
        "id": "0d69d63c",
        "outputId": "8271516e-f188-49e9-ac91-96ec9c091f4c"
      },
      "outputs": [
        {
          "data": {
            "text/html": [
              "<div>\n",
              "<style scoped>\n",
              "    .dataframe tbody tr th:only-of-type {\n",
              "        vertical-align: middle;\n",
              "    }\n",
              "\n",
              "    .dataframe tbody tr th {\n",
              "        vertical-align: top;\n",
              "    }\n",
              "\n",
              "    .dataframe thead th {\n",
              "        text-align: right;\n",
              "    }\n",
              "</style>\n",
              "<table border=\"1\" class=\"dataframe\">\n",
              "  <thead>\n",
              "    <tr style=\"text-align: right;\">\n",
              "      <th></th>\n",
              "      <th>patientunitstayid</th>\n",
              "      <th>patienthealthsystemstayid</th>\n",
              "      <th>gender</th>\n",
              "      <th>age</th>\n",
              "      <th>ethnicity</th>\n",
              "      <th>hospitalid</th>\n",
              "      <th>wardid</th>\n",
              "      <th>apacheadmissiondx</th>\n",
              "      <th>admissionheight</th>\n",
              "      <th>hospitaladmittime24</th>\n",
              "      <th>...</th>\n",
              "      <th>History_Value_1</th>\n",
              "      <th>History_Value_2</th>\n",
              "      <th>History_Value_3</th>\n",
              "      <th>History_Value_4</th>\n",
              "      <th>History_Value_5</th>\n",
              "      <th>History_Value_6</th>\n",
              "      <th>History_Value_7</th>\n",
              "      <th>History_Value_8</th>\n",
              "      <th>History_Value_9</th>\n",
              "      <th>History_Value_10</th>\n",
              "    </tr>\n",
              "  </thead>\n",
              "  <tbody>\n",
              "    <tr>\n",
              "      <th>0</th>\n",
              "      <td>141168</td>\n",
              "      <td>128919</td>\n",
              "      <td>Female</td>\n",
              "      <td>70</td>\n",
              "      <td>Caucasian</td>\n",
              "      <td>59</td>\n",
              "      <td>91</td>\n",
              "      <td>Rhythm disturbance (atrial, supraventricular)</td>\n",
              "      <td>152.4</td>\n",
              "      <td>15:54:00</td>\n",
              "      <td>...</td>\n",
              "      <td>notes</td>\n",
              "      <td>Progress Notes</td>\n",
              "      <td>Past History</td>\n",
              "      <td>Organ Systems</td>\n",
              "      <td>Cardiovascular (R)</td>\n",
              "      <td>Valve disease</td>\n",
              "      <td>AS</td>\n",
              "      <td>None</td>\n",
              "      <td>None</td>\n",
              "      <td>None</td>\n",
              "    </tr>\n",
              "    <tr>\n",
              "      <th>1</th>\n",
              "      <td>141168</td>\n",
              "      <td>128919</td>\n",
              "      <td>Female</td>\n",
              "      <td>70</td>\n",
              "      <td>Caucasian</td>\n",
              "      <td>59</td>\n",
              "      <td>91</td>\n",
              "      <td>Rhythm disturbance (atrial, supraventricular)</td>\n",
              "      <td>152.4</td>\n",
              "      <td>15:54:00</td>\n",
              "      <td>...</td>\n",
              "      <td>notes</td>\n",
              "      <td>Progress Notes</td>\n",
              "      <td>Past History</td>\n",
              "      <td>Organ Systems</td>\n",
              "      <td>Renal  (R)</td>\n",
              "      <td>Renal Failure</td>\n",
              "      <td>renal failure- not currently dialyzed</td>\n",
              "      <td>None</td>\n",
              "      <td>None</td>\n",
              "      <td>None</td>\n",
              "    </tr>\n",
              "    <tr>\n",
              "      <th>2</th>\n",
              "      <td>141168</td>\n",
              "      <td>128919</td>\n",
              "      <td>Female</td>\n",
              "      <td>70</td>\n",
              "      <td>Caucasian</td>\n",
              "      <td>59</td>\n",
              "      <td>91</td>\n",
              "      <td>Rhythm disturbance (atrial, supraventricular)</td>\n",
              "      <td>152.4</td>\n",
              "      <td>15:54:00</td>\n",
              "      <td>...</td>\n",
              "      <td>notes</td>\n",
              "      <td>Progress Notes</td>\n",
              "      <td>Past History</td>\n",
              "      <td>Organ Systems</td>\n",
              "      <td>Cardiovascular (R)</td>\n",
              "      <td>Congestive Heart Failure</td>\n",
              "      <td>CHF - class II</td>\n",
              "      <td>None</td>\n",
              "      <td>None</td>\n",
              "      <td>None</td>\n",
              "    </tr>\n",
              "    <tr>\n",
              "      <th>3</th>\n",
              "      <td>141168</td>\n",
              "      <td>128919</td>\n",
              "      <td>Female</td>\n",
              "      <td>70</td>\n",
              "      <td>Caucasian</td>\n",
              "      <td>59</td>\n",
              "      <td>91</td>\n",
              "      <td>Rhythm disturbance (atrial, supraventricular)</td>\n",
              "      <td>152.4</td>\n",
              "      <td>15:54:00</td>\n",
              "      <td>...</td>\n",
              "      <td>notes</td>\n",
              "      <td>Progress Notes</td>\n",
              "      <td>Past History</td>\n",
              "      <td>Past History Obtain Options</td>\n",
              "      <td>Performed</td>\n",
              "      <td>None</td>\n",
              "      <td>None</td>\n",
              "      <td>None</td>\n",
              "      <td>None</td>\n",
              "      <td>None</td>\n",
              "    </tr>\n",
              "    <tr>\n",
              "      <th>4</th>\n",
              "      <td>141168</td>\n",
              "      <td>128919</td>\n",
              "      <td>Female</td>\n",
              "      <td>70</td>\n",
              "      <td>Caucasian</td>\n",
              "      <td>59</td>\n",
              "      <td>91</td>\n",
              "      <td>Rhythm disturbance (atrial, supraventricular)</td>\n",
              "      <td>152.4</td>\n",
              "      <td>15:54:00</td>\n",
              "      <td>...</td>\n",
              "      <td>notes</td>\n",
              "      <td>Progress Notes</td>\n",
              "      <td>Past History</td>\n",
              "      <td>Organ Systems</td>\n",
              "      <td>Cardiovascular (R)</td>\n",
              "      <td>Hypertension Requiring Treatment</td>\n",
              "      <td>hypertension requiring treatment</td>\n",
              "      <td>None</td>\n",
              "      <td>None</td>\n",
              "      <td>None</td>\n",
              "    </tr>\n",
              "    <tr>\n",
              "      <th>...</th>\n",
              "      <td>...</td>\n",
              "      <td>...</td>\n",
              "      <td>...</td>\n",
              "      <td>...</td>\n",
              "      <td>...</td>\n",
              "      <td>...</td>\n",
              "      <td>...</td>\n",
              "      <td>...</td>\n",
              "      <td>...</td>\n",
              "      <td>...</td>\n",
              "      <td>...</td>\n",
              "      <td>...</td>\n",
              "      <td>...</td>\n",
              "      <td>...</td>\n",
              "      <td>...</td>\n",
              "      <td>...</td>\n",
              "      <td>...</td>\n",
              "      <td>...</td>\n",
              "      <td>...</td>\n",
              "      <td>...</td>\n",
              "      <td>...</td>\n",
              "    </tr>\n",
              "    <tr>\n",
              "      <th>131969673</th>\n",
              "      <td>3353226</td>\n",
              "      <td>2743075</td>\n",
              "      <td>Female</td>\n",
              "      <td>79</td>\n",
              "      <td>African American</td>\n",
              "      <td>458</td>\n",
              "      <td>1109</td>\n",
              "      <td>Effusions, pleural</td>\n",
              "      <td>121.9</td>\n",
              "      <td>17:09:00</td>\n",
              "      <td>...</td>\n",
              "      <td>notes</td>\n",
              "      <td>Progress Notes</td>\n",
              "      <td>Past History</td>\n",
              "      <td>Organ Systems</td>\n",
              "      <td>Endocrine (R)</td>\n",
              "      <td>Hypothyroidism</td>\n",
              "      <td>hypothyroidism</td>\n",
              "      <td>None</td>\n",
              "      <td>None</td>\n",
              "      <td>None</td>\n",
              "    </tr>\n",
              "    <tr>\n",
              "      <th>131969674</th>\n",
              "      <td>3353226</td>\n",
              "      <td>2743075</td>\n",
              "      <td>Female</td>\n",
              "      <td>79</td>\n",
              "      <td>African American</td>\n",
              "      <td>458</td>\n",
              "      <td>1109</td>\n",
              "      <td>Effusions, pleural</td>\n",
              "      <td>121.9</td>\n",
              "      <td>17:09:00</td>\n",
              "      <td>...</td>\n",
              "      <td>notes</td>\n",
              "      <td>Progress Notes</td>\n",
              "      <td>Past History</td>\n",
              "      <td>Organ Systems</td>\n",
              "      <td>Cardiovascular (R)</td>\n",
              "      <td>Hypertension Requiring Treatment</td>\n",
              "      <td>hypertension requiring treatment</td>\n",
              "      <td>None</td>\n",
              "      <td>None</td>\n",
              "      <td>None</td>\n",
              "    </tr>\n",
              "    <tr>\n",
              "      <th>131969675</th>\n",
              "      <td>3353226</td>\n",
              "      <td>2743075</td>\n",
              "      <td>Female</td>\n",
              "      <td>79</td>\n",
              "      <td>African American</td>\n",
              "      <td>458</td>\n",
              "      <td>1109</td>\n",
              "      <td>Effusions, pleural</td>\n",
              "      <td>121.9</td>\n",
              "      <td>17:09:00</td>\n",
              "      <td>...</td>\n",
              "      <td>notes</td>\n",
              "      <td>Progress Notes</td>\n",
              "      <td>Past History</td>\n",
              "      <td>Organ Systems</td>\n",
              "      <td>Renal  (R)</td>\n",
              "      <td>Renal Failure</td>\n",
              "      <td>renal failure - hemodialysis</td>\n",
              "      <td>None</td>\n",
              "      <td>None</td>\n",
              "      <td>None</td>\n",
              "    </tr>\n",
              "    <tr>\n",
              "      <th>131969676</th>\n",
              "      <td>3353226</td>\n",
              "      <td>2743075</td>\n",
              "      <td>Female</td>\n",
              "      <td>79</td>\n",
              "      <td>African American</td>\n",
              "      <td>458</td>\n",
              "      <td>1109</td>\n",
              "      <td>Effusions, pleural</td>\n",
              "      <td>121.9</td>\n",
              "      <td>17:09:00</td>\n",
              "      <td>...</td>\n",
              "      <td>notes</td>\n",
              "      <td>Progress Notes</td>\n",
              "      <td>Past History</td>\n",
              "      <td>Organ Systems</td>\n",
              "      <td>Endocrine (R)</td>\n",
              "      <td>Insulin Dependent Diabetes</td>\n",
              "      <td>insulin dependent diabetes</td>\n",
              "      <td>None</td>\n",
              "      <td>None</td>\n",
              "      <td>None</td>\n",
              "    </tr>\n",
              "    <tr>\n",
              "      <th>131969677</th>\n",
              "      <td>3353226</td>\n",
              "      <td>2743075</td>\n",
              "      <td>Female</td>\n",
              "      <td>79</td>\n",
              "      <td>African American</td>\n",
              "      <td>458</td>\n",
              "      <td>1109</td>\n",
              "      <td>Effusions, pleural</td>\n",
              "      <td>121.9</td>\n",
              "      <td>17:09:00</td>\n",
              "      <td>...</td>\n",
              "      <td>notes</td>\n",
              "      <td>Progress Notes</td>\n",
              "      <td>Past History</td>\n",
              "      <td>Past History Obtain Options</td>\n",
              "      <td>Performed</td>\n",
              "      <td>None</td>\n",
              "      <td>None</td>\n",
              "      <td>None</td>\n",
              "      <td>None</td>\n",
              "      <td>None</td>\n",
              "    </tr>\n",
              "  </tbody>\n",
              "</table>\n",
              "<p>20926604 rows × 42 columns</p>\n",
              "</div>"
            ],
            "text/plain": [
              "           patientunitstayid  patienthealthsystemstayid  gender age  \\\n",
              "0                     141168                     128919  Female  70   \n",
              "1                     141168                     128919  Female  70   \n",
              "2                     141168                     128919  Female  70   \n",
              "3                     141168                     128919  Female  70   \n",
              "4                     141168                     128919  Female  70   \n",
              "...                      ...                        ...     ...  ..   \n",
              "131969673            3353226                    2743075  Female  79   \n",
              "131969674            3353226                    2743075  Female  79   \n",
              "131969675            3353226                    2743075  Female  79   \n",
              "131969676            3353226                    2743075  Female  79   \n",
              "131969677            3353226                    2743075  Female  79   \n",
              "\n",
              "                  ethnicity  hospitalid  wardid  \\\n",
              "0                 Caucasian          59      91   \n",
              "1                 Caucasian          59      91   \n",
              "2                 Caucasian          59      91   \n",
              "3                 Caucasian          59      91   \n",
              "4                 Caucasian          59      91   \n",
              "...                     ...         ...     ...   \n",
              "131969673  African American         458    1109   \n",
              "131969674  African American         458    1109   \n",
              "131969675  African American         458    1109   \n",
              "131969676  African American         458    1109   \n",
              "131969677  African American         458    1109   \n",
              "\n",
              "                                       apacheadmissiondx  admissionheight  \\\n",
              "0          Rhythm disturbance (atrial, supraventricular)            152.4   \n",
              "1          Rhythm disturbance (atrial, supraventricular)            152.4   \n",
              "2          Rhythm disturbance (atrial, supraventricular)            152.4   \n",
              "3          Rhythm disturbance (atrial, supraventricular)            152.4   \n",
              "4          Rhythm disturbance (atrial, supraventricular)            152.4   \n",
              "...                                                  ...              ...   \n",
              "131969673                             Effusions, pleural            121.9   \n",
              "131969674                             Effusions, pleural            121.9   \n",
              "131969675                             Effusions, pleural            121.9   \n",
              "131969676                             Effusions, pleural            121.9   \n",
              "131969677                             Effusions, pleural            121.9   \n",
              "\n",
              "          hospitaladmittime24  ...  History_Value_1 History_Value_2  \\\n",
              "0                    15:54:00  ...            notes  Progress Notes   \n",
              "1                    15:54:00  ...            notes  Progress Notes   \n",
              "2                    15:54:00  ...            notes  Progress Notes   \n",
              "3                    15:54:00  ...            notes  Progress Notes   \n",
              "4                    15:54:00  ...            notes  Progress Notes   \n",
              "...                       ...  ...              ...             ...   \n",
              "131969673            17:09:00  ...            notes  Progress Notes   \n",
              "131969674            17:09:00  ...            notes  Progress Notes   \n",
              "131969675            17:09:00  ...            notes  Progress Notes   \n",
              "131969676            17:09:00  ...            notes  Progress Notes   \n",
              "131969677            17:09:00  ...            notes  Progress Notes   \n",
              "\n",
              "           History_Value_3              History_Value_4     History_Value_5  \\\n",
              "0             Past History                Organ Systems  Cardiovascular (R)   \n",
              "1             Past History                Organ Systems          Renal  (R)   \n",
              "2             Past History                Organ Systems  Cardiovascular (R)   \n",
              "3             Past History  Past History Obtain Options           Performed   \n",
              "4             Past History                Organ Systems  Cardiovascular (R)   \n",
              "...                    ...                          ...                 ...   \n",
              "131969673     Past History                Organ Systems       Endocrine (R)   \n",
              "131969674     Past History                Organ Systems  Cardiovascular (R)   \n",
              "131969675     Past History                Organ Systems          Renal  (R)   \n",
              "131969676     Past History                Organ Systems       Endocrine (R)   \n",
              "131969677     Past History  Past History Obtain Options           Performed   \n",
              "\n",
              "                            History_Value_6  \\\n",
              "0                             Valve disease   \n",
              "1                             Renal Failure   \n",
              "2                  Congestive Heart Failure   \n",
              "3                                      None   \n",
              "4          Hypertension Requiring Treatment   \n",
              "...                                     ...   \n",
              "131969673                    Hypothyroidism   \n",
              "131969674  Hypertension Requiring Treatment   \n",
              "131969675                     Renal Failure   \n",
              "131969676        Insulin Dependent Diabetes   \n",
              "131969677                              None   \n",
              "\n",
              "                                 History_Value_7 History_Value_8  \\\n",
              "0                                             AS            None   \n",
              "1          renal failure- not currently dialyzed            None   \n",
              "2                                 CHF - class II            None   \n",
              "3                                           None            None   \n",
              "4               hypertension requiring treatment            None   \n",
              "...                                          ...             ...   \n",
              "131969673                         hypothyroidism            None   \n",
              "131969674       hypertension requiring treatment            None   \n",
              "131969675           renal failure - hemodialysis            None   \n",
              "131969676             insulin dependent diabetes            None   \n",
              "131969677                                   None            None   \n",
              "\n",
              "          History_Value_9 History_Value_10  \n",
              "0                    None             None  \n",
              "1                    None             None  \n",
              "2                    None             None  \n",
              "3                    None             None  \n",
              "4                    None             None  \n",
              "...                   ...              ...  \n",
              "131969673            None             None  \n",
              "131969674            None             None  \n",
              "131969675            None             None  \n",
              "131969676            None             None  \n",
              "131969677            None             None  \n",
              "\n",
              "[20926604 rows x 42 columns]"
            ]
          },
          "execution_count": 145,
          "metadata": {},
          "output_type": "execute_result"
        }
      ],
      "source": [
        "expired_after_first_visit"
      ]
    },
    {
      "cell_type": "code",
      "execution_count": null,
      "id": "c889e1b1",
      "metadata": {
        "id": "c889e1b1"
      },
      "outputs": [],
      "source": [
        "# expired_after_first_visit.to_csv('expired_after_first_visit.csv')"
      ]
    },
    {
      "cell_type": "code",
      "execution_count": null,
      "id": "4c5657ce",
      "metadata": {
        "id": "4c5657ce",
        "outputId": "9e205ddd-e56b-40be-b3cf-edc4c1e40617"
      },
      "outputs": [
        {
          "data": {
            "text/plain": [
              "(20926604, 42)"
            ]
          },
          "execution_count": 147,
          "metadata": {},
          "output_type": "execute_result"
        }
      ],
      "source": [
        "expired_after_first_visit.shape"
      ]
    },
    {
      "cell_type": "code",
      "execution_count": null,
      "id": "1c187b74",
      "metadata": {
        "scrolled": false,
        "id": "1c187b74",
        "outputId": "2ada763c-264c-436a-99a1-3bfdcd909fb1"
      },
      "outputs": [
        {
          "data": {
            "text/html": [
              "<div>\n",
              "<style scoped>\n",
              "    .dataframe tbody tr th:only-of-type {\n",
              "        vertical-align: middle;\n",
              "    }\n",
              "\n",
              "    .dataframe tbody tr th {\n",
              "        vertical-align: top;\n",
              "    }\n",
              "\n",
              "    .dataframe thead th {\n",
              "        text-align: right;\n",
              "    }\n",
              "</style>\n",
              "<table border=\"1\" class=\"dataframe\">\n",
              "  <thead>\n",
              "    <tr style=\"text-align: right;\">\n",
              "      <th></th>\n",
              "      <th>patientunitstayid</th>\n",
              "      <th>patienthealthsystemstayid</th>\n",
              "      <th>gender</th>\n",
              "      <th>age</th>\n",
              "      <th>ethnicity</th>\n",
              "      <th>hospitalid</th>\n",
              "      <th>wardid</th>\n",
              "      <th>apacheadmissiondx</th>\n",
              "      <th>admissionheight</th>\n",
              "      <th>hospitaladmittime24</th>\n",
              "      <th>...</th>\n",
              "      <th>History_Value_1</th>\n",
              "      <th>History_Value_2</th>\n",
              "      <th>History_Value_3</th>\n",
              "      <th>History_Value_4</th>\n",
              "      <th>History_Value_5</th>\n",
              "      <th>History_Value_6</th>\n",
              "      <th>History_Value_7</th>\n",
              "      <th>History_Value_8</th>\n",
              "      <th>History_Value_9</th>\n",
              "      <th>History_Value_10</th>\n",
              "    </tr>\n",
              "  </thead>\n",
              "  <tbody>\n",
              "    <tr>\n",
              "      <th>192</th>\n",
              "      <td>141178</td>\n",
              "      <td>128927</td>\n",
              "      <td>Female</td>\n",
              "      <td>52</td>\n",
              "      <td>Caucasian</td>\n",
              "      <td>60</td>\n",
              "      <td>83</td>\n",
              "      <td>NaN</td>\n",
              "      <td>162.6</td>\n",
              "      <td>08:56:00</td>\n",
              "      <td>...</td>\n",
              "      <td>NaN</td>\n",
              "      <td>NaN</td>\n",
              "      <td>NaN</td>\n",
              "      <td>NaN</td>\n",
              "      <td>NaN</td>\n",
              "      <td>NaN</td>\n",
              "      <td>NaN</td>\n",
              "      <td>NaN</td>\n",
              "      <td>NaN</td>\n",
              "      <td>NaN</td>\n",
              "    </tr>\n",
              "    <tr>\n",
              "      <th>193</th>\n",
              "      <td>141179</td>\n",
              "      <td>128927</td>\n",
              "      <td>Female</td>\n",
              "      <td>52</td>\n",
              "      <td>Caucasian</td>\n",
              "      <td>60</td>\n",
              "      <td>83</td>\n",
              "      <td>NaN</td>\n",
              "      <td>162.6</td>\n",
              "      <td>08:56:00</td>\n",
              "      <td>...</td>\n",
              "      <td>NaN</td>\n",
              "      <td>NaN</td>\n",
              "      <td>NaN</td>\n",
              "      <td>NaN</td>\n",
              "      <td>NaN</td>\n",
              "      <td>NaN</td>\n",
              "      <td>NaN</td>\n",
              "      <td>NaN</td>\n",
              "      <td>NaN</td>\n",
              "      <td>NaN</td>\n",
              "    </tr>\n",
              "    <tr>\n",
              "      <th>194</th>\n",
              "      <td>141194</td>\n",
              "      <td>128941</td>\n",
              "      <td>Male</td>\n",
              "      <td>68</td>\n",
              "      <td>Caucasian</td>\n",
              "      <td>73</td>\n",
              "      <td>92</td>\n",
              "      <td>Sepsis, renal/UTI (including bladder)</td>\n",
              "      <td>180.3</td>\n",
              "      <td>18:18:40</td>\n",
              "      <td>...</td>\n",
              "      <td>notes</td>\n",
              "      <td>Progress Notes</td>\n",
              "      <td>Past History</td>\n",
              "      <td>Past History Obtain Options</td>\n",
              "      <td>Performed</td>\n",
              "      <td>None</td>\n",
              "      <td>None</td>\n",
              "      <td>None</td>\n",
              "      <td>None</td>\n",
              "      <td>None</td>\n",
              "    </tr>\n",
              "    <tr>\n",
              "      <th>195</th>\n",
              "      <td>141194</td>\n",
              "      <td>128941</td>\n",
              "      <td>Male</td>\n",
              "      <td>68</td>\n",
              "      <td>Caucasian</td>\n",
              "      <td>73</td>\n",
              "      <td>92</td>\n",
              "      <td>Sepsis, renal/UTI (including bladder)</td>\n",
              "      <td>180.3</td>\n",
              "      <td>18:18:40</td>\n",
              "      <td>...</td>\n",
              "      <td>notes</td>\n",
              "      <td>Progress Notes</td>\n",
              "      <td>Past History</td>\n",
              "      <td>Past History Obtain Options</td>\n",
              "      <td>Performed</td>\n",
              "      <td>None</td>\n",
              "      <td>None</td>\n",
              "      <td>None</td>\n",
              "      <td>None</td>\n",
              "      <td>None</td>\n",
              "    </tr>\n",
              "    <tr>\n",
              "      <th>196</th>\n",
              "      <td>141194</td>\n",
              "      <td>128941</td>\n",
              "      <td>Male</td>\n",
              "      <td>68</td>\n",
              "      <td>Caucasian</td>\n",
              "      <td>73</td>\n",
              "      <td>92</td>\n",
              "      <td>Sepsis, renal/UTI (including bladder)</td>\n",
              "      <td>180.3</td>\n",
              "      <td>18:18:40</td>\n",
              "      <td>...</td>\n",
              "      <td>notes</td>\n",
              "      <td>Progress Notes</td>\n",
              "      <td>Past History</td>\n",
              "      <td>Organ Systems</td>\n",
              "      <td>Endocrine (R)</td>\n",
              "      <td>Non-Insulin Dependent Diabetes</td>\n",
              "      <td>medication dependent</td>\n",
              "      <td>None</td>\n",
              "      <td>None</td>\n",
              "      <td>None</td>\n",
              "    </tr>\n",
              "    <tr>\n",
              "      <th>...</th>\n",
              "      <td>...</td>\n",
              "      <td>...</td>\n",
              "      <td>...</td>\n",
              "      <td>...</td>\n",
              "      <td>...</td>\n",
              "      <td>...</td>\n",
              "      <td>...</td>\n",
              "      <td>...</td>\n",
              "      <td>...</td>\n",
              "      <td>...</td>\n",
              "      <td>...</td>\n",
              "      <td>...</td>\n",
              "      <td>...</td>\n",
              "      <td>...</td>\n",
              "      <td>...</td>\n",
              "      <td>...</td>\n",
              "      <td>...</td>\n",
              "      <td>...</td>\n",
              "      <td>...</td>\n",
              "      <td>...</td>\n",
              "      <td>...</td>\n",
              "    </tr>\n",
              "    <tr>\n",
              "      <th>131970103</th>\n",
              "      <td>3353254</td>\n",
              "      <td>2743102</td>\n",
              "      <td>Male</td>\n",
              "      <td>81</td>\n",
              "      <td>Caucasian</td>\n",
              "      <td>459</td>\n",
              "      <td>1108</td>\n",
              "      <td>Bleeding, lower GI</td>\n",
              "      <td>185.4</td>\n",
              "      <td>07:43:00</td>\n",
              "      <td>...</td>\n",
              "      <td>notes</td>\n",
              "      <td>Progress Notes</td>\n",
              "      <td>Past History</td>\n",
              "      <td>Organ Systems</td>\n",
              "      <td>Cardiovascular (R)</td>\n",
              "      <td>Arrhythmias</td>\n",
              "      <td>atrial fibrillation - chronic</td>\n",
              "      <td>None</td>\n",
              "      <td>None</td>\n",
              "      <td>None</td>\n",
              "    </tr>\n",
              "    <tr>\n",
              "      <th>131970104</th>\n",
              "      <td>3353254</td>\n",
              "      <td>2743102</td>\n",
              "      <td>Male</td>\n",
              "      <td>81</td>\n",
              "      <td>Caucasian</td>\n",
              "      <td>459</td>\n",
              "      <td>1108</td>\n",
              "      <td>Bleeding, lower GI</td>\n",
              "      <td>185.4</td>\n",
              "      <td>07:43:00</td>\n",
              "      <td>...</td>\n",
              "      <td>notes</td>\n",
              "      <td>Progress Notes</td>\n",
              "      <td>Past History</td>\n",
              "      <td>Past History Obtain Options</td>\n",
              "      <td>Performed</td>\n",
              "      <td>None</td>\n",
              "      <td>None</td>\n",
              "      <td>None</td>\n",
              "      <td>None</td>\n",
              "      <td>None</td>\n",
              "    </tr>\n",
              "    <tr>\n",
              "      <th>131970105</th>\n",
              "      <td>3353254</td>\n",
              "      <td>2743102</td>\n",
              "      <td>Male</td>\n",
              "      <td>81</td>\n",
              "      <td>Caucasian</td>\n",
              "      <td>459</td>\n",
              "      <td>1108</td>\n",
              "      <td>Bleeding, lower GI</td>\n",
              "      <td>185.4</td>\n",
              "      <td>07:43:00</td>\n",
              "      <td>...</td>\n",
              "      <td>notes</td>\n",
              "      <td>Progress Notes</td>\n",
              "      <td>Past History</td>\n",
              "      <td>Organ Systems</td>\n",
              "      <td>Pulmonary</td>\n",
              "      <td>COPD</td>\n",
              "      <td>COPD  - moderate</td>\n",
              "      <td>None</td>\n",
              "      <td>None</td>\n",
              "      <td>None</td>\n",
              "    </tr>\n",
              "    <tr>\n",
              "      <th>131970106</th>\n",
              "      <td>3353254</td>\n",
              "      <td>2743102</td>\n",
              "      <td>Male</td>\n",
              "      <td>81</td>\n",
              "      <td>Caucasian</td>\n",
              "      <td>459</td>\n",
              "      <td>1108</td>\n",
              "      <td>Bleeding, lower GI</td>\n",
              "      <td>185.4</td>\n",
              "      <td>07:43:00</td>\n",
              "      <td>...</td>\n",
              "      <td>notes</td>\n",
              "      <td>Progress Notes</td>\n",
              "      <td>Past History</td>\n",
              "      <td>Organ Systems</td>\n",
              "      <td>Cardiovascular (R)</td>\n",
              "      <td>Arrhythmias</td>\n",
              "      <td>atrial fibrillation - chronic</td>\n",
              "      <td>None</td>\n",
              "      <td>None</td>\n",
              "      <td>None</td>\n",
              "    </tr>\n",
              "    <tr>\n",
              "      <th>131970107</th>\n",
              "      <td>3353263</td>\n",
              "      <td>2743110</td>\n",
              "      <td>Male</td>\n",
              "      <td>35</td>\n",
              "      <td>African American</td>\n",
              "      <td>458</td>\n",
              "      <td>1106</td>\n",
              "      <td>Embolus, pulmonary</td>\n",
              "      <td>182.9</td>\n",
              "      <td>03:22:00</td>\n",
              "      <td>...</td>\n",
              "      <td>notes</td>\n",
              "      <td>Progress Notes</td>\n",
              "      <td>Past History</td>\n",
              "      <td>Past History Obtain Options</td>\n",
              "      <td>Performed</td>\n",
              "      <td>None</td>\n",
              "      <td>None</td>\n",
              "      <td>None</td>\n",
              "      <td>None</td>\n",
              "      <td>None</td>\n",
              "    </tr>\n",
              "  </tbody>\n",
              "</table>\n",
              "<p>111043504 rows × 42 columns</p>\n",
              "</div>"
            ],
            "text/plain": [
              "           patientunitstayid  patienthealthsystemstayid  gender age  \\\n",
              "192                   141178                     128927  Female  52   \n",
              "193                   141179                     128927  Female  52   \n",
              "194                   141194                     128941    Male  68   \n",
              "195                   141194                     128941    Male  68   \n",
              "196                   141194                     128941    Male  68   \n",
              "...                      ...                        ...     ...  ..   \n",
              "131970103            3353254                    2743102    Male  81   \n",
              "131970104            3353254                    2743102    Male  81   \n",
              "131970105            3353254                    2743102    Male  81   \n",
              "131970106            3353254                    2743102    Male  81   \n",
              "131970107            3353263                    2743110    Male  35   \n",
              "\n",
              "                  ethnicity  hospitalid  wardid  \\\n",
              "192               Caucasian          60      83   \n",
              "193               Caucasian          60      83   \n",
              "194               Caucasian          73      92   \n",
              "195               Caucasian          73      92   \n",
              "196               Caucasian          73      92   \n",
              "...                     ...         ...     ...   \n",
              "131970103         Caucasian         459    1108   \n",
              "131970104         Caucasian         459    1108   \n",
              "131970105         Caucasian         459    1108   \n",
              "131970106         Caucasian         459    1108   \n",
              "131970107  African American         458    1106   \n",
              "\n",
              "                               apacheadmissiondx  admissionheight  \\\n",
              "192                                          NaN            162.6   \n",
              "193                                          NaN            162.6   \n",
              "194        Sepsis, renal/UTI (including bladder)            180.3   \n",
              "195        Sepsis, renal/UTI (including bladder)            180.3   \n",
              "196        Sepsis, renal/UTI (including bladder)            180.3   \n",
              "...                                          ...              ...   \n",
              "131970103                     Bleeding, lower GI            185.4   \n",
              "131970104                     Bleeding, lower GI            185.4   \n",
              "131970105                     Bleeding, lower GI            185.4   \n",
              "131970106                     Bleeding, lower GI            185.4   \n",
              "131970107                     Embolus, pulmonary            182.9   \n",
              "\n",
              "          hospitaladmittime24  ...  History_Value_1 History_Value_2  \\\n",
              "192                  08:56:00  ...              NaN             NaN   \n",
              "193                  08:56:00  ...              NaN             NaN   \n",
              "194                  18:18:40  ...            notes  Progress Notes   \n",
              "195                  18:18:40  ...            notes  Progress Notes   \n",
              "196                  18:18:40  ...            notes  Progress Notes   \n",
              "...                       ...  ...              ...             ...   \n",
              "131970103            07:43:00  ...            notes  Progress Notes   \n",
              "131970104            07:43:00  ...            notes  Progress Notes   \n",
              "131970105            07:43:00  ...            notes  Progress Notes   \n",
              "131970106            07:43:00  ...            notes  Progress Notes   \n",
              "131970107            03:22:00  ...            notes  Progress Notes   \n",
              "\n",
              "           History_Value_3              History_Value_4     History_Value_5  \\\n",
              "192                    NaN                          NaN                 NaN   \n",
              "193                    NaN                          NaN                 NaN   \n",
              "194           Past History  Past History Obtain Options           Performed   \n",
              "195           Past History  Past History Obtain Options           Performed   \n",
              "196           Past History                Organ Systems       Endocrine (R)   \n",
              "...                    ...                          ...                 ...   \n",
              "131970103     Past History                Organ Systems  Cardiovascular (R)   \n",
              "131970104     Past History  Past History Obtain Options           Performed   \n",
              "131970105     Past History                Organ Systems           Pulmonary   \n",
              "131970106     Past History                Organ Systems  Cardiovascular (R)   \n",
              "131970107     Past History  Past History Obtain Options           Performed   \n",
              "\n",
              "                          History_Value_6                History_Value_7  \\\n",
              "192                                   NaN                            NaN   \n",
              "193                                   NaN                            NaN   \n",
              "194                                  None                           None   \n",
              "195                                  None                           None   \n",
              "196        Non-Insulin Dependent Diabetes           medication dependent   \n",
              "...                                   ...                            ...   \n",
              "131970103                     Arrhythmias  atrial fibrillation - chronic   \n",
              "131970104                            None                           None   \n",
              "131970105                            COPD               COPD  - moderate   \n",
              "131970106                     Arrhythmias  atrial fibrillation - chronic   \n",
              "131970107                            None                           None   \n",
              "\n",
              "          History_Value_8 History_Value_9 History_Value_10  \n",
              "192                   NaN             NaN              NaN  \n",
              "193                   NaN             NaN              NaN  \n",
              "194                  None            None             None  \n",
              "195                  None            None             None  \n",
              "196                  None            None             None  \n",
              "...                   ...             ...              ...  \n",
              "131970103            None            None             None  \n",
              "131970104            None            None             None  \n",
              "131970105            None            None             None  \n",
              "131970106            None            None             None  \n",
              "131970107            None            None             None  \n",
              "\n",
              "[111043504 rows x 42 columns]"
            ]
          },
          "execution_count": 148,
          "metadata": {},
          "output_type": "execute_result"
        }
      ],
      "source": [
        "expired_after_first_visit_ids = expired_after_first_visit['patientunitstayid']\n",
        "\n",
        "# Step 2: Filter the DataFrame to exclude rows corresponding to these patient unit stay IDs\n",
        "filtered_df = df_patientdiagnose[~df_patientdiagnose['patientunitstayid'].isin(expired_after_first_visit_ids)]\n",
        "\n",
        "# Output the filtered DataFrame\n",
        "filtered_df"
      ]
    },
    {
      "cell_type": "code",
      "execution_count": null,
      "id": "568e2d34",
      "metadata": {
        "id": "568e2d34",
        "outputId": "a10fc59a-f5a0-4db9-d9ba-6b6e9e18d259"
      },
      "outputs": [
        {
          "data": {
            "text/plain": [
              "1     108610962\n",
              "2      13367317\n",
              "3       6924000\n",
              "4       1367113\n",
              "5        817152\n",
              "6        502324\n",
              "8        355876\n",
              "12        14169\n",
              "7          9156\n",
              "9           794\n",
              "10          684\n",
              "16          169\n",
              "18          150\n",
              "15           91\n",
              "11           70\n",
              "13           39\n",
              "14           36\n",
              "17            6\n",
              "Name: unitvisitnumber, dtype: int64"
            ]
          },
          "execution_count": 149,
          "metadata": {},
          "output_type": "execute_result"
        }
      ],
      "source": [
        "df_patientdiagnose.unitvisitnumber.value_counts()"
      ]
    },
    {
      "cell_type": "code",
      "execution_count": null,
      "id": "fb8eb809",
      "metadata": {
        "id": "fb8eb809"
      },
      "outputs": [],
      "source": []
    },
    {
      "cell_type": "code",
      "execution_count": null,
      "id": "ab7c63a2",
      "metadata": {
        "id": "ab7c63a2"
      },
      "outputs": [],
      "source": [
        "# value_to_check = 3353226\n",
        "\n",
        "# filtered_df2 = df_patientdiagnose[df_patientdiagnose['History_Value_5'] == value_to_check]"
      ]
    },
    {
      "cell_type": "code",
      "execution_count": null,
      "id": "1c24f25d",
      "metadata": {
        "id": "1c24f25d"
      },
      "outputs": [],
      "source": [
        "# filtered_df2.unitdischargestatus"
      ]
    },
    {
      "cell_type": "code",
      "execution_count": null,
      "id": "e8478a90",
      "metadata": {
        "id": "e8478a90"
      },
      "outputs": [],
      "source": [
        "# notfount_diagnose = df_patientdiagnose.loc[df_patientdiagnose.Value_1.isnull()]\n",
        "# notfount_pasthis = df_patientdiagnose.loc[df_patientdiagnose.History_Value_5.isnull()]"
      ]
    },
    {
      "cell_type": "code",
      "execution_count": null,
      "id": "40c25dd2",
      "metadata": {
        "id": "40c25dd2"
      },
      "outputs": [],
      "source": [
        "# notfount_diagnose.uniquepid.value_counts()"
      ]
    },
    {
      "cell_type": "code",
      "execution_count": null,
      "id": "bc50bd5d",
      "metadata": {
        "id": "bc50bd5d"
      },
      "outputs": [],
      "source": [
        "# notfount_pasthis.uniquepid.value_counts()"
      ]
    },
    {
      "cell_type": "code",
      "execution_count": null,
      "id": "486faa25",
      "metadata": {
        "id": "486faa25"
      },
      "outputs": [],
      "source": [
        "# notfount_type = df_patientdiagnose.loc[df_patientdiagnose.unitstaytype.isnull()]\n"
      ]
    },
    {
      "cell_type": "code",
      "execution_count": null,
      "id": "704f43e1",
      "metadata": {
        "id": "704f43e1"
      },
      "outputs": [],
      "source": [
        "# value_to_check = 590180\n",
        "\n",
        "# filtered_df = notfount[notfount['patienthealthsystemstayid'] == value_to_check]"
      ]
    },
    {
      "cell_type": "code",
      "execution_count": null,
      "id": "b111128d",
      "metadata": {
        "id": "b111128d"
      },
      "outputs": [],
      "source": [
        "# df_patientdiagnose.uniquepid.value_counts()"
      ]
    },
    {
      "cell_type": "code",
      "execution_count": null,
      "id": "09d7055e",
      "metadata": {
        "id": "09d7055e"
      },
      "outputs": [],
      "source": [
        "df_patientdiagnose = filtered_df"
      ]
    },
    {
      "cell_type": "code",
      "execution_count": null,
      "id": "d8028088",
      "metadata": {
        "id": "d8028088",
        "outputId": "d1dcdad7-6380-4eb7-88f3-6ccffaf1cd59"
      },
      "outputs": [
        {
          "data": {
            "text/plain": [
              "(111043504, 42)"
            ]
          },
          "execution_count": 159,
          "metadata": {},
          "output_type": "execute_result"
        }
      ],
      "source": [
        "df_patientdiagnose.shape"
      ]
    },
    {
      "cell_type": "code",
      "execution_count": null,
      "id": "77eb9f2c",
      "metadata": {
        "id": "77eb9f2c",
        "outputId": "5d501b91-ee47-4d8a-fe50-51632733c333"
      },
      "outputs": [
        {
          "data": {
            "text/plain": [
              "35329"
            ]
          },
          "execution_count": 160,
          "metadata": {},
          "output_type": "execute_result"
        }
      ],
      "source": [
        "df_patientdiagnose.Value_1.isna().sum()"
      ]
    },
    {
      "cell_type": "code",
      "execution_count": null,
      "id": "f2afbfa6",
      "metadata": {
        "id": "f2afbfa6"
      },
      "outputs": [],
      "source": [
        "df_patientdiagnose = df_patientdiagnose.dropna(subset=['Value_1'])"
      ]
    },
    {
      "cell_type": "code",
      "execution_count": null,
      "id": "3cbc5fe4",
      "metadata": {
        "id": "3cbc5fe4",
        "outputId": "117c8414-618f-4e05-94cf-91734ec27ead"
      },
      "outputs": [
        {
          "data": {
            "text/plain": [
              "(111008175, 42)"
            ]
          },
          "execution_count": 162,
          "metadata": {},
          "output_type": "execute_result"
        }
      ],
      "source": [
        "df_patientdiagnose.shape"
      ]
    },
    {
      "cell_type": "code",
      "execution_count": null,
      "id": "0b297ecb",
      "metadata": {
        "id": "0b297ecb",
        "outputId": "4a58ae44-2d1e-4b78-f11b-6bed2c8c4cbb"
      },
      "outputs": [
        {
          "data": {
            "text/plain": [
              "23033"
            ]
          },
          "execution_count": 163,
          "metadata": {},
          "output_type": "execute_result"
        }
      ],
      "source": [
        "df_patientdiagnose.History_Value_5.isna().sum()"
      ]
    },
    {
      "cell_type": "code",
      "execution_count": null,
      "id": "3cb8f8b3",
      "metadata": {
        "id": "3cb8f8b3"
      },
      "outputs": [],
      "source": [
        "df_patientdiagnose = df_patientdiagnose.dropna(subset=['History_Value_5'])"
      ]
    },
    {
      "cell_type": "code",
      "execution_count": null,
      "id": "dbcddb31",
      "metadata": {
        "id": "dbcddb31"
      },
      "outputs": [],
      "source": [
        "df_patientdiagnose= df_patientdiagnose.dropna(subset = ['apacheadmissiondx'])"
      ]
    },
    {
      "cell_type": "code",
      "execution_count": null,
      "id": "bde94205",
      "metadata": {
        "id": "bde94205",
        "outputId": "2441f703-10ca-4ac2-deb8-f2ad5eac110f"
      },
      "outputs": [
        {
          "data": {
            "text/plain": [
              "(110941527, 42)"
            ]
          },
          "execution_count": 166,
          "metadata": {},
          "output_type": "execute_result"
        }
      ],
      "source": [
        "df_patientdiagnose.shape"
      ]
    },
    {
      "cell_type": "code",
      "execution_count": null,
      "id": "0b749ca9",
      "metadata": {
        "id": "0b749ca9"
      },
      "outputs": [],
      "source": [
        "df_patientdiagnose = df_patientdiagnose.drop_duplicates()"
      ]
    },
    {
      "cell_type": "code",
      "execution_count": null,
      "id": "7c62cbee",
      "metadata": {
        "id": "7c62cbee",
        "outputId": "5980bb33-5cd6-45db-9cf8-7d93ca929f91"
      },
      "outputs": [
        {
          "data": {
            "text/plain": [
              "(2528667, 42)"
            ]
          },
          "execution_count": 168,
          "metadata": {},
          "output_type": "execute_result"
        }
      ],
      "source": [
        "df_patientdiagnose.shape"
      ]
    },
    {
      "cell_type": "code",
      "execution_count": null,
      "id": "a57d3f88",
      "metadata": {
        "id": "a57d3f88",
        "outputId": "38590e8c-2f1b-474a-fe2d-ef5fa886d05a"
      },
      "outputs": [
        {
          "data": {
            "text/plain": [
              "Index(['patientunitstayid', 'patienthealthsystemstayid', 'gender', 'age',\n",
              "       'ethnicity', 'hospitalid', 'wardid', 'apacheadmissiondx',\n",
              "       'admissionheight', 'hospitaladmittime24', 'hospitaladmitoffset',\n",
              "       'hospitaladmitsource', 'hospitaldischargeyear',\n",
              "       'hospitaldischargetime24', 'hospitaldischargeoffset',\n",
              "       'hospitaldischargelocation', 'hospitaldischargestatus', 'unittype',\n",
              "       'unitadmittime24', 'unitadmitsource', 'unitvisitnumber', 'unitstaytype',\n",
              "       'admissionweight', 'dischargeweight', 'unitdischargetime24',\n",
              "       'unitdischargeoffset', 'unitdischargelocation', 'unitdischargestatus',\n",
              "       'uniquepid', 'Value_1', 'Value_2', 'Value_3', 'History_Value_1',\n",
              "       'History_Value_2', 'History_Value_3', 'History_Value_4',\n",
              "       'History_Value_5', 'History_Value_6', 'History_Value_7',\n",
              "       'History_Value_8', 'History_Value_9', 'History_Value_10'],\n",
              "      dtype='object')"
            ]
          },
          "execution_count": 169,
          "metadata": {},
          "output_type": "execute_result"
        }
      ],
      "source": [
        "df_patientdiagnose.columns"
      ]
    },
    {
      "cell_type": "code",
      "execution_count": null,
      "id": "3784c0a7",
      "metadata": {
        "id": "3784c0a7"
      },
      "outputs": [],
      "source": [
        "df = df_patientdiagnose.drop(columns =['unitdischargelocation','hospitaldischargestatus',\n",
        "                                       'hospitaldischargelocation','hospitaladmitsource',\n",
        "                                       'hospitaladmittime24','hospitaldischargetime24','unitadmittime24',\n",
        "                                      'unitdischargetime24','hospitalid','wardid','hospitaldischargeyear',\n",
        "                                       'Value_3','History_Value_10',\n",
        "                                      'History_Value_9','History_Value_8','History_Value_7','History_Value_4',\n",
        "                                       'History_Value_3','History_Value_2','History_Value_1'])"
      ]
    },
    {
      "cell_type": "code",
      "execution_count": null,
      "id": "72b11e5b",
      "metadata": {
        "id": "72b11e5b"
      },
      "outputs": [],
      "source": [
        "df = df.drop(columns =['History_Value_6'])"
      ]
    },
    {
      "cell_type": "code",
      "execution_count": null,
      "id": "6fc71bcc",
      "metadata": {
        "id": "6fc71bcc"
      },
      "outputs": [],
      "source": [
        "# df = df_patientdiagnose.drop(columns =['unitdischargelocation','hospitaldischargestatus',\n",
        "#                                        'hospitaldischargelocation','hospitaladmitsource','unitadmitsource',\n",
        "#                                        'patienthealthsystemstayid','uniquepid',\n",
        "#                                        'hospitaladmittime24','hospitaldischargetime24','unitadmittime24',\n",
        "#                                       'unitdischargetime24','hospitalid','wardid','hospitaldischargeyear','Value_3','History_Value_10',\n",
        "#                                       'History_Value_9','History_Value_8','History_Value_7','History_Value_4',\n",
        "#                                        'History_Value_3','History_Value_2','History_Value_1','unitdischargestatus'])"
      ]
    },
    {
      "cell_type": "code",
      "execution_count": null,
      "id": "c82e56f9",
      "metadata": {
        "id": "c82e56f9"
      },
      "outputs": [],
      "source": [
        "# df.History_Value_6.value_counts()"
      ]
    },
    {
      "cell_type": "code",
      "execution_count": null,
      "id": "0ffa9552",
      "metadata": {
        "id": "0ffa9552"
      },
      "outputs": [],
      "source": [
        "main_disease_values = df.Value_1.unique()\n",
        "sub_disease_values =df.Value_2.unique()\n",
        "main_past_values = df.History_Value_5.unique()\n",
        "# sub_past_values =df.History_Value_6.unique()"
      ]
    },
    {
      "cell_type": "code",
      "execution_count": null,
      "id": "ac43de9e",
      "metadata": {
        "id": "ac43de9e"
      },
      "outputs": [],
      "source": [
        "for disease in main_disease_values:\n",
        "    column_name = f\"Diagnose_{disease}\"\n",
        "    df[column_name] = df['Value_1'].apply(lambda x: 1 if x == disease else 0)\n"
      ]
    },
    {
      "cell_type": "code",
      "execution_count": null,
      "id": "f6ec4a63",
      "metadata": {
        "id": "f6ec4a63",
        "outputId": "0c1da0ca-f6a5-4444-f17f-da53fcd53ac8"
      },
      "outputs": [
        {
          "data": {
            "text/plain": [
              "(2528667, 38)"
            ]
          },
          "execution_count": 176,
          "metadata": {},
          "output_type": "execute_result"
        }
      ],
      "source": [
        "df.shape"
      ]
    },
    {
      "cell_type": "code",
      "execution_count": null,
      "id": "e23c7220",
      "metadata": {
        "id": "e23c7220",
        "outputId": "40f4c64f-a33b-42c0-ef64-eb03bce91131"
      },
      "outputs": [
        {
          "name": "stderr",
          "output_type": "stream",
          "text": [
            "/tmp/ipykernel_3355041/1457254133.py:4: PerformanceWarning: DataFrame is highly fragmented.  This is usually the result of calling `frame.insert` many times, which has poor performance.  Consider joining all columns at once using pd.concat(axis=1) instead. To get a de-fragmented frame, use `newframe = frame.copy()`\n",
            "  df2[column_name] = df['Value_2'].apply(lambda x: 1 if x == disease else 0)\n",
            "/tmp/ipykernel_3355041/1457254133.py:4: PerformanceWarning: DataFrame is highly fragmented.  This is usually the result of calling `frame.insert` many times, which has poor performance.  Consider joining all columns at once using pd.concat(axis=1) instead. To get a de-fragmented frame, use `newframe = frame.copy()`\n",
            "  df2[column_name] = df['Value_2'].apply(lambda x: 1 if x == disease else 0)\n",
            "/tmp/ipykernel_3355041/1457254133.py:4: PerformanceWarning: DataFrame is highly fragmented.  This is usually the result of calling `frame.insert` many times, which has poor performance.  Consider joining all columns at once using pd.concat(axis=1) instead. To get a de-fragmented frame, use `newframe = frame.copy()`\n",
            "  df2[column_name] = df['Value_2'].apply(lambda x: 1 if x == disease else 0)\n",
            "/tmp/ipykernel_3355041/1457254133.py:4: PerformanceWarning: DataFrame is highly fragmented.  This is usually the result of calling `frame.insert` many times, which has poor performance.  Consider joining all columns at once using pd.concat(axis=1) instead. To get a de-fragmented frame, use `newframe = frame.copy()`\n",
            "  df2[column_name] = df['Value_2'].apply(lambda x: 1 if x == disease else 0)\n",
            "/tmp/ipykernel_3355041/1457254133.py:4: PerformanceWarning: DataFrame is highly fragmented.  This is usually the result of calling `frame.insert` many times, which has poor performance.  Consider joining all columns at once using pd.concat(axis=1) instead. To get a de-fragmented frame, use `newframe = frame.copy()`\n",
            "  df2[column_name] = df['Value_2'].apply(lambda x: 1 if x == disease else 0)\n",
            "/tmp/ipykernel_3355041/1457254133.py:4: PerformanceWarning: DataFrame is highly fragmented.  This is usually the result of calling `frame.insert` many times, which has poor performance.  Consider joining all columns at once using pd.concat(axis=1) instead. To get a de-fragmented frame, use `newframe = frame.copy()`\n",
            "  df2[column_name] = df['Value_2'].apply(lambda x: 1 if x == disease else 0)\n",
            "/tmp/ipykernel_3355041/1457254133.py:4: PerformanceWarning: DataFrame is highly fragmented.  This is usually the result of calling `frame.insert` many times, which has poor performance.  Consider joining all columns at once using pd.concat(axis=1) instead. To get a de-fragmented frame, use `newframe = frame.copy()`\n",
            "  df2[column_name] = df['Value_2'].apply(lambda x: 1 if x == disease else 0)\n",
            "/tmp/ipykernel_3355041/1457254133.py:4: PerformanceWarning: DataFrame is highly fragmented.  This is usually the result of calling `frame.insert` many times, which has poor performance.  Consider joining all columns at once using pd.concat(axis=1) instead. To get a de-fragmented frame, use `newframe = frame.copy()`\n",
            "  df2[column_name] = df['Value_2'].apply(lambda x: 1 if x == disease else 0)\n",
            "/tmp/ipykernel_3355041/1457254133.py:4: PerformanceWarning: DataFrame is highly fragmented.  This is usually the result of calling `frame.insert` many times, which has poor performance.  Consider joining all columns at once using pd.concat(axis=1) instead. To get a de-fragmented frame, use `newframe = frame.copy()`\n",
            "  df2[column_name] = df['Value_2'].apply(lambda x: 1 if x == disease else 0)\n",
            "/tmp/ipykernel_3355041/1457254133.py:4: PerformanceWarning: DataFrame is highly fragmented.  This is usually the result of calling `frame.insert` many times, which has poor performance.  Consider joining all columns at once using pd.concat(axis=1) instead. To get a de-fragmented frame, use `newframe = frame.copy()`\n",
            "  df2[column_name] = df['Value_2'].apply(lambda x: 1 if x == disease else 0)\n",
            "/tmp/ipykernel_3355041/1457254133.py:4: PerformanceWarning: DataFrame is highly fragmented.  This is usually the result of calling `frame.insert` many times, which has poor performance.  Consider joining all columns at once using pd.concat(axis=1) instead. To get a de-fragmented frame, use `newframe = frame.copy()`\n",
            "  df2[column_name] = df['Value_2'].apply(lambda x: 1 if x == disease else 0)\n",
            "/tmp/ipykernel_3355041/1457254133.py:4: PerformanceWarning: DataFrame is highly fragmented.  This is usually the result of calling `frame.insert` many times, which has poor performance.  Consider joining all columns at once using pd.concat(axis=1) instead. To get a de-fragmented frame, use `newframe = frame.copy()`\n",
            "  df2[column_name] = df['Value_2'].apply(lambda x: 1 if x == disease else 0)\n",
            "/tmp/ipykernel_3355041/1457254133.py:4: PerformanceWarning: DataFrame is highly fragmented.  This is usually the result of calling `frame.insert` many times, which has poor performance.  Consider joining all columns at once using pd.concat(axis=1) instead. To get a de-fragmented frame, use `newframe = frame.copy()`\n",
            "  df2[column_name] = df['Value_2'].apply(lambda x: 1 if x == disease else 0)\n",
            "/tmp/ipykernel_3355041/1457254133.py:4: PerformanceWarning: DataFrame is highly fragmented.  This is usually the result of calling `frame.insert` many times, which has poor performance.  Consider joining all columns at once using pd.concat(axis=1) instead. To get a de-fragmented frame, use `newframe = frame.copy()`\n",
            "  df2[column_name] = df['Value_2'].apply(lambda x: 1 if x == disease else 0)\n",
            "/tmp/ipykernel_3355041/1457254133.py:4: PerformanceWarning: DataFrame is highly fragmented.  This is usually the result of calling `frame.insert` many times, which has poor performance.  Consider joining all columns at once using pd.concat(axis=1) instead. To get a de-fragmented frame, use `newframe = frame.copy()`\n",
            "  df2[column_name] = df['Value_2'].apply(lambda x: 1 if x == disease else 0)\n",
            "/tmp/ipykernel_3355041/1457254133.py:4: PerformanceWarning: DataFrame is highly fragmented.  This is usually the result of calling `frame.insert` many times, which has poor performance.  Consider joining all columns at once using pd.concat(axis=1) instead. To get a de-fragmented frame, use `newframe = frame.copy()`\n",
            "  df2[column_name] = df['Value_2'].apply(lambda x: 1 if x == disease else 0)\n",
            "/tmp/ipykernel_3355041/1457254133.py:4: PerformanceWarning: DataFrame is highly fragmented.  This is usually the result of calling `frame.insert` many times, which has poor performance.  Consider joining all columns at once using pd.concat(axis=1) instead. To get a de-fragmented frame, use `newframe = frame.copy()`\n",
            "  df2[column_name] = df['Value_2'].apply(lambda x: 1 if x == disease else 0)\n",
            "/tmp/ipykernel_3355041/1457254133.py:4: PerformanceWarning: DataFrame is highly fragmented.  This is usually the result of calling `frame.insert` many times, which has poor performance.  Consider joining all columns at once using pd.concat(axis=1) instead. To get a de-fragmented frame, use `newframe = frame.copy()`\n",
            "  df2[column_name] = df['Value_2'].apply(lambda x: 1 if x == disease else 0)\n",
            "/tmp/ipykernel_3355041/1457254133.py:4: PerformanceWarning: DataFrame is highly fragmented.  This is usually the result of calling `frame.insert` many times, which has poor performance.  Consider joining all columns at once using pd.concat(axis=1) instead. To get a de-fragmented frame, use `newframe = frame.copy()`\n",
            "  df2[column_name] = df['Value_2'].apply(lambda x: 1 if x == disease else 0)\n",
            "/tmp/ipykernel_3355041/1457254133.py:4: PerformanceWarning: DataFrame is highly fragmented.  This is usually the result of calling `frame.insert` many times, which has poor performance.  Consider joining all columns at once using pd.concat(axis=1) instead. To get a de-fragmented frame, use `newframe = frame.copy()`\n",
            "  df2[column_name] = df['Value_2'].apply(lambda x: 1 if x == disease else 0)\n",
            "/tmp/ipykernel_3355041/1457254133.py:4: PerformanceWarning: DataFrame is highly fragmented.  This is usually the result of calling `frame.insert` many times, which has poor performance.  Consider joining all columns at once using pd.concat(axis=1) instead. To get a de-fragmented frame, use `newframe = frame.copy()`\n",
            "  df2[column_name] = df['Value_2'].apply(lambda x: 1 if x == disease else 0)\n",
            "/tmp/ipykernel_3355041/1457254133.py:4: PerformanceWarning: DataFrame is highly fragmented.  This is usually the result of calling `frame.insert` many times, which has poor performance.  Consider joining all columns at once using pd.concat(axis=1) instead. To get a de-fragmented frame, use `newframe = frame.copy()`\n",
            "  df2[column_name] = df['Value_2'].apply(lambda x: 1 if x == disease else 0)\n",
            "/tmp/ipykernel_3355041/1457254133.py:4: PerformanceWarning: DataFrame is highly fragmented.  This is usually the result of calling `frame.insert` many times, which has poor performance.  Consider joining all columns at once using pd.concat(axis=1) instead. To get a de-fragmented frame, use `newframe = frame.copy()`\n",
            "  df2[column_name] = df['Value_2'].apply(lambda x: 1 if x == disease else 0)\n",
            "/tmp/ipykernel_3355041/1457254133.py:4: PerformanceWarning: DataFrame is highly fragmented.  This is usually the result of calling `frame.insert` many times, which has poor performance.  Consider joining all columns at once using pd.concat(axis=1) instead. To get a de-fragmented frame, use `newframe = frame.copy()`\n",
            "  df2[column_name] = df['Value_2'].apply(lambda x: 1 if x == disease else 0)\n",
            "/tmp/ipykernel_3355041/1457254133.py:4: PerformanceWarning: DataFrame is highly fragmented.  This is usually the result of calling `frame.insert` many times, which has poor performance.  Consider joining all columns at once using pd.concat(axis=1) instead. To get a de-fragmented frame, use `newframe = frame.copy()`\n",
            "  df2[column_name] = df['Value_2'].apply(lambda x: 1 if x == disease else 0)\n",
            "/tmp/ipykernel_3355041/1457254133.py:4: PerformanceWarning: DataFrame is highly fragmented.  This is usually the result of calling `frame.insert` many times, which has poor performance.  Consider joining all columns at once using pd.concat(axis=1) instead. To get a de-fragmented frame, use `newframe = frame.copy()`\n",
            "  df2[column_name] = df['Value_2'].apply(lambda x: 1 if x == disease else 0)\n",
            "/tmp/ipykernel_3355041/1457254133.py:4: PerformanceWarning: DataFrame is highly fragmented.  This is usually the result of calling `frame.insert` many times, which has poor performance.  Consider joining all columns at once using pd.concat(axis=1) instead. To get a de-fragmented frame, use `newframe = frame.copy()`\n",
            "  df2[column_name] = df['Value_2'].apply(lambda x: 1 if x == disease else 0)\n",
            "/tmp/ipykernel_3355041/1457254133.py:4: PerformanceWarning: DataFrame is highly fragmented.  This is usually the result of calling `frame.insert` many times, which has poor performance.  Consider joining all columns at once using pd.concat(axis=1) instead. To get a de-fragmented frame, use `newframe = frame.copy()`\n",
            "  df2[column_name] = df['Value_2'].apply(lambda x: 1 if x == disease else 0)\n",
            "/tmp/ipykernel_3355041/1457254133.py:4: PerformanceWarning: DataFrame is highly fragmented.  This is usually the result of calling `frame.insert` many times, which has poor performance.  Consider joining all columns at once using pd.concat(axis=1) instead. To get a de-fragmented frame, use `newframe = frame.copy()`\n",
            "  df2[column_name] = df['Value_2'].apply(lambda x: 1 if x == disease else 0)\n",
            "/tmp/ipykernel_3355041/1457254133.py:4: PerformanceWarning: DataFrame is highly fragmented.  This is usually the result of calling `frame.insert` many times, which has poor performance.  Consider joining all columns at once using pd.concat(axis=1) instead. To get a de-fragmented frame, use `newframe = frame.copy()`\n",
            "  df2[column_name] = df['Value_2'].apply(lambda x: 1 if x == disease else 0)\n",
            "/tmp/ipykernel_3355041/1457254133.py:4: PerformanceWarning: DataFrame is highly fragmented.  This is usually the result of calling `frame.insert` many times, which has poor performance.  Consider joining all columns at once using pd.concat(axis=1) instead. To get a de-fragmented frame, use `newframe = frame.copy()`\n",
            "  df2[column_name] = df['Value_2'].apply(lambda x: 1 if x == disease else 0)\n"
          ]
        },
        {
          "data": {
            "text/html": [
              "<div>\n",
              "<style scoped>\n",
              "    .dataframe tbody tr th:only-of-type {\n",
              "        vertical-align: middle;\n",
              "    }\n",
              "\n",
              "    .dataframe tbody tr th {\n",
              "        vertical-align: top;\n",
              "    }\n",
              "\n",
              "    .dataframe thead th {\n",
              "        text-align: right;\n",
              "    }\n",
              "</style>\n",
              "<table border=\"1\" class=\"dataframe\">\n",
              "  <thead>\n",
              "    <tr style=\"text-align: right;\">\n",
              "      <th></th>\n",
              "      <th>Diagnose_skin, bone and joint infections</th>\n",
              "      <th>Diagnose_respiratory failure</th>\n",
              "      <th>Diagnose_glucose metabolism</th>\n",
              "      <th>Diagnose_altered mental status / pain</th>\n",
              "      <th>Diagnose_seizures</th>\n",
              "      <th>Diagnose_chest pain / ASHD</th>\n",
              "      <th>Diagnose_coagulation disorders</th>\n",
              "      <th>Diagnose_GI infections</th>\n",
              "      <th>Diagnose_shock / hypotension</th>\n",
              "      <th>Diagnose_arrhythmias</th>\n",
              "      <th>...</th>\n",
              "      <th>Diagnose_sensory organ</th>\n",
              "      <th>Diagnose_connective tissue</th>\n",
              "      <th>Diagnose_oral cavity disease</th>\n",
              "      <th>Diagnose_eye surgery</th>\n",
              "      <th>Diagnose_trauma - systemic effects</th>\n",
              "      <th>Diagnose_signs/symptoms/ill-defined conditions</th>\n",
              "      <th>Diagnose_metabolic disorder</th>\n",
              "      <th>Diagnose_thymus</th>\n",
              "      <th>Diagnose_breast disorder</th>\n",
              "      <th>Diagnose_inflammatory</th>\n",
              "    </tr>\n",
              "  </thead>\n",
              "  <tbody>\n",
              "    <tr>\n",
              "      <th>202</th>\n",
              "      <td>1</td>\n",
              "      <td>0</td>\n",
              "      <td>0</td>\n",
              "      <td>0</td>\n",
              "      <td>0</td>\n",
              "      <td>0</td>\n",
              "      <td>0</td>\n",
              "      <td>0</td>\n",
              "      <td>0</td>\n",
              "      <td>0</td>\n",
              "      <td>...</td>\n",
              "      <td>0</td>\n",
              "      <td>0</td>\n",
              "      <td>0</td>\n",
              "      <td>0</td>\n",
              "      <td>0</td>\n",
              "      <td>0</td>\n",
              "      <td>0</td>\n",
              "      <td>0</td>\n",
              "      <td>0</td>\n",
              "      <td>0</td>\n",
              "    </tr>\n",
              "    <tr>\n",
              "      <th>203</th>\n",
              "      <td>1</td>\n",
              "      <td>0</td>\n",
              "      <td>0</td>\n",
              "      <td>0</td>\n",
              "      <td>0</td>\n",
              "      <td>0</td>\n",
              "      <td>0</td>\n",
              "      <td>0</td>\n",
              "      <td>0</td>\n",
              "      <td>0</td>\n",
              "      <td>...</td>\n",
              "      <td>0</td>\n",
              "      <td>0</td>\n",
              "      <td>0</td>\n",
              "      <td>0</td>\n",
              "      <td>0</td>\n",
              "      <td>0</td>\n",
              "      <td>0</td>\n",
              "      <td>0</td>\n",
              "      <td>0</td>\n",
              "      <td>0</td>\n",
              "    </tr>\n",
              "    <tr>\n",
              "      <th>204</th>\n",
              "      <td>1</td>\n",
              "      <td>0</td>\n",
              "      <td>0</td>\n",
              "      <td>0</td>\n",
              "      <td>0</td>\n",
              "      <td>0</td>\n",
              "      <td>0</td>\n",
              "      <td>0</td>\n",
              "      <td>0</td>\n",
              "      <td>0</td>\n",
              "      <td>...</td>\n",
              "      <td>0</td>\n",
              "      <td>0</td>\n",
              "      <td>0</td>\n",
              "      <td>0</td>\n",
              "      <td>0</td>\n",
              "      <td>0</td>\n",
              "      <td>0</td>\n",
              "      <td>0</td>\n",
              "      <td>0</td>\n",
              "      <td>0</td>\n",
              "    </tr>\n",
              "    <tr>\n",
              "      <th>205</th>\n",
              "      <td>1</td>\n",
              "      <td>0</td>\n",
              "      <td>0</td>\n",
              "      <td>0</td>\n",
              "      <td>0</td>\n",
              "      <td>0</td>\n",
              "      <td>0</td>\n",
              "      <td>0</td>\n",
              "      <td>0</td>\n",
              "      <td>0</td>\n",
              "      <td>...</td>\n",
              "      <td>0</td>\n",
              "      <td>0</td>\n",
              "      <td>0</td>\n",
              "      <td>0</td>\n",
              "      <td>0</td>\n",
              "      <td>0</td>\n",
              "      <td>0</td>\n",
              "      <td>0</td>\n",
              "      <td>0</td>\n",
              "      <td>0</td>\n",
              "    </tr>\n",
              "    <tr>\n",
              "      <th>206</th>\n",
              "      <td>1</td>\n",
              "      <td>0</td>\n",
              "      <td>0</td>\n",
              "      <td>0</td>\n",
              "      <td>0</td>\n",
              "      <td>0</td>\n",
              "      <td>0</td>\n",
              "      <td>0</td>\n",
              "      <td>0</td>\n",
              "      <td>0</td>\n",
              "      <td>...</td>\n",
              "      <td>0</td>\n",
              "      <td>0</td>\n",
              "      <td>0</td>\n",
              "      <td>0</td>\n",
              "      <td>0</td>\n",
              "      <td>0</td>\n",
              "      <td>0</td>\n",
              "      <td>0</td>\n",
              "      <td>0</td>\n",
              "      <td>0</td>\n",
              "    </tr>\n",
              "    <tr>\n",
              "      <th>...</th>\n",
              "      <td>...</td>\n",
              "      <td>...</td>\n",
              "      <td>...</td>\n",
              "      <td>...</td>\n",
              "      <td>...</td>\n",
              "      <td>...</td>\n",
              "      <td>...</td>\n",
              "      <td>...</td>\n",
              "      <td>...</td>\n",
              "      <td>...</td>\n",
              "      <td>...</td>\n",
              "      <td>...</td>\n",
              "      <td>...</td>\n",
              "      <td>...</td>\n",
              "      <td>...</td>\n",
              "      <td>...</td>\n",
              "      <td>...</td>\n",
              "      <td>...</td>\n",
              "      <td>...</td>\n",
              "      <td>...</td>\n",
              "      <td>...</td>\n",
              "    </tr>\n",
              "    <tr>\n",
              "      <th>131970103</th>\n",
              "      <td>0</td>\n",
              "      <td>0</td>\n",
              "      <td>0</td>\n",
              "      <td>0</td>\n",
              "      <td>0</td>\n",
              "      <td>0</td>\n",
              "      <td>0</td>\n",
              "      <td>0</td>\n",
              "      <td>0</td>\n",
              "      <td>0</td>\n",
              "      <td>...</td>\n",
              "      <td>0</td>\n",
              "      <td>0</td>\n",
              "      <td>0</td>\n",
              "      <td>0</td>\n",
              "      <td>0</td>\n",
              "      <td>0</td>\n",
              "      <td>0</td>\n",
              "      <td>0</td>\n",
              "      <td>0</td>\n",
              "      <td>0</td>\n",
              "    </tr>\n",
              "    <tr>\n",
              "      <th>131970104</th>\n",
              "      <td>0</td>\n",
              "      <td>0</td>\n",
              "      <td>0</td>\n",
              "      <td>0</td>\n",
              "      <td>0</td>\n",
              "      <td>0</td>\n",
              "      <td>0</td>\n",
              "      <td>0</td>\n",
              "      <td>0</td>\n",
              "      <td>0</td>\n",
              "      <td>...</td>\n",
              "      <td>0</td>\n",
              "      <td>0</td>\n",
              "      <td>0</td>\n",
              "      <td>0</td>\n",
              "      <td>0</td>\n",
              "      <td>0</td>\n",
              "      <td>0</td>\n",
              "      <td>0</td>\n",
              "      <td>0</td>\n",
              "      <td>0</td>\n",
              "    </tr>\n",
              "    <tr>\n",
              "      <th>131970105</th>\n",
              "      <td>0</td>\n",
              "      <td>0</td>\n",
              "      <td>0</td>\n",
              "      <td>0</td>\n",
              "      <td>0</td>\n",
              "      <td>0</td>\n",
              "      <td>0</td>\n",
              "      <td>0</td>\n",
              "      <td>0</td>\n",
              "      <td>0</td>\n",
              "      <td>...</td>\n",
              "      <td>0</td>\n",
              "      <td>0</td>\n",
              "      <td>0</td>\n",
              "      <td>0</td>\n",
              "      <td>0</td>\n",
              "      <td>0</td>\n",
              "      <td>0</td>\n",
              "      <td>0</td>\n",
              "      <td>0</td>\n",
              "      <td>0</td>\n",
              "    </tr>\n",
              "    <tr>\n",
              "      <th>131970106</th>\n",
              "      <td>0</td>\n",
              "      <td>0</td>\n",
              "      <td>0</td>\n",
              "      <td>0</td>\n",
              "      <td>0</td>\n",
              "      <td>0</td>\n",
              "      <td>0</td>\n",
              "      <td>0</td>\n",
              "      <td>0</td>\n",
              "      <td>0</td>\n",
              "      <td>...</td>\n",
              "      <td>0</td>\n",
              "      <td>0</td>\n",
              "      <td>0</td>\n",
              "      <td>0</td>\n",
              "      <td>0</td>\n",
              "      <td>0</td>\n",
              "      <td>0</td>\n",
              "      <td>0</td>\n",
              "      <td>0</td>\n",
              "      <td>0</td>\n",
              "    </tr>\n",
              "    <tr>\n",
              "      <th>131970107</th>\n",
              "      <td>0</td>\n",
              "      <td>0</td>\n",
              "      <td>0</td>\n",
              "      <td>0</td>\n",
              "      <td>0</td>\n",
              "      <td>0</td>\n",
              "      <td>0</td>\n",
              "      <td>0</td>\n",
              "      <td>0</td>\n",
              "      <td>0</td>\n",
              "      <td>...</td>\n",
              "      <td>0</td>\n",
              "      <td>0</td>\n",
              "      <td>0</td>\n",
              "      <td>0</td>\n",
              "      <td>0</td>\n",
              "      <td>0</td>\n",
              "      <td>0</td>\n",
              "      <td>0</td>\n",
              "      <td>0</td>\n",
              "      <td>0</td>\n",
              "    </tr>\n",
              "  </tbody>\n",
              "</table>\n",
              "<p>2528667 rows × 131 columns</p>\n",
              "</div>"
            ],
            "text/plain": [
              "           Diagnose_skin, bone and joint infections  \\\n",
              "202                                               1   \n",
              "203                                               1   \n",
              "204                                               1   \n",
              "205                                               1   \n",
              "206                                               1   \n",
              "...                                             ...   \n",
              "131970103                                         0   \n",
              "131970104                                         0   \n",
              "131970105                                         0   \n",
              "131970106                                         0   \n",
              "131970107                                         0   \n",
              "\n",
              "           Diagnose_respiratory failure  Diagnose_glucose metabolism  \\\n",
              "202                                   0                            0   \n",
              "203                                   0                            0   \n",
              "204                                   0                            0   \n",
              "205                                   0                            0   \n",
              "206                                   0                            0   \n",
              "...                                 ...                          ...   \n",
              "131970103                             0                            0   \n",
              "131970104                             0                            0   \n",
              "131970105                             0                            0   \n",
              "131970106                             0                            0   \n",
              "131970107                             0                            0   \n",
              "\n",
              "           Diagnose_altered mental status / pain  Diagnose_seizures  \\\n",
              "202                                            0                  0   \n",
              "203                                            0                  0   \n",
              "204                                            0                  0   \n",
              "205                                            0                  0   \n",
              "206                                            0                  0   \n",
              "...                                          ...                ...   \n",
              "131970103                                      0                  0   \n",
              "131970104                                      0                  0   \n",
              "131970105                                      0                  0   \n",
              "131970106                                      0                  0   \n",
              "131970107                                      0                  0   \n",
              "\n",
              "           Diagnose_chest pain / ASHD  Diagnose_coagulation disorders  \\\n",
              "202                                 0                               0   \n",
              "203                                 0                               0   \n",
              "204                                 0                               0   \n",
              "205                                 0                               0   \n",
              "206                                 0                               0   \n",
              "...                               ...                             ...   \n",
              "131970103                           0                               0   \n",
              "131970104                           0                               0   \n",
              "131970105                           0                               0   \n",
              "131970106                           0                               0   \n",
              "131970107                           0                               0   \n",
              "\n",
              "           Diagnose_GI infections  Diagnose_shock / hypotension  \\\n",
              "202                             0                             0   \n",
              "203                             0                             0   \n",
              "204                             0                             0   \n",
              "205                             0                             0   \n",
              "206                             0                             0   \n",
              "...                           ...                           ...   \n",
              "131970103                       0                             0   \n",
              "131970104                       0                             0   \n",
              "131970105                       0                             0   \n",
              "131970106                       0                             0   \n",
              "131970107                       0                             0   \n",
              "\n",
              "           Diagnose_arrhythmias  ...  Diagnose_sensory organ  \\\n",
              "202                           0  ...                       0   \n",
              "203                           0  ...                       0   \n",
              "204                           0  ...                       0   \n",
              "205                           0  ...                       0   \n",
              "206                           0  ...                       0   \n",
              "...                         ...  ...                     ...   \n",
              "131970103                     0  ...                       0   \n",
              "131970104                     0  ...                       0   \n",
              "131970105                     0  ...                       0   \n",
              "131970106                     0  ...                       0   \n",
              "131970107                     0  ...                       0   \n",
              "\n",
              "           Diagnose_connective tissue   Diagnose_oral cavity disease  \\\n",
              "202                                  0                             0   \n",
              "203                                  0                             0   \n",
              "204                                  0                             0   \n",
              "205                                  0                             0   \n",
              "206                                  0                             0   \n",
              "...                                ...                           ...   \n",
              "131970103                            0                             0   \n",
              "131970104                            0                             0   \n",
              "131970105                            0                             0   \n",
              "131970106                            0                             0   \n",
              "131970107                            0                             0   \n",
              "\n",
              "           Diagnose_eye surgery  Diagnose_trauma - systemic effects  \\\n",
              "202                           0                                   0   \n",
              "203                           0                                   0   \n",
              "204                           0                                   0   \n",
              "205                           0                                   0   \n",
              "206                           0                                   0   \n",
              "...                         ...                                 ...   \n",
              "131970103                     0                                   0   \n",
              "131970104                     0                                   0   \n",
              "131970105                     0                                   0   \n",
              "131970106                     0                                   0   \n",
              "131970107                     0                                   0   \n",
              "\n",
              "           Diagnose_signs/symptoms/ill-defined conditions  \\\n",
              "202                                                     0   \n",
              "203                                                     0   \n",
              "204                                                     0   \n",
              "205                                                     0   \n",
              "206                                                     0   \n",
              "...                                                   ...   \n",
              "131970103                                               0   \n",
              "131970104                                               0   \n",
              "131970105                                               0   \n",
              "131970106                                               0   \n",
              "131970107                                               0   \n",
              "\n",
              "           Diagnose_metabolic disorder  Diagnose_thymus  \\\n",
              "202                                  0                0   \n",
              "203                                  0                0   \n",
              "204                                  0                0   \n",
              "205                                  0                0   \n",
              "206                                  0                0   \n",
              "...                                ...              ...   \n",
              "131970103                            0                0   \n",
              "131970104                            0                0   \n",
              "131970105                            0                0   \n",
              "131970106                            0                0   \n",
              "131970107                            0                0   \n",
              "\n",
              "           Diagnose_breast disorder  Diagnose_inflammatory  \n",
              "202                               0                      0  \n",
              "203                               0                      0  \n",
              "204                               0                      0  \n",
              "205                               0                      0  \n",
              "206                               0                      0  \n",
              "...                             ...                    ...  \n",
              "131970103                         0                      0  \n",
              "131970104                         0                      0  \n",
              "131970105                         0                      0  \n",
              "131970106                         0                      0  \n",
              "131970107                         0                      0  \n",
              "\n",
              "[2528667 rows x 131 columns]"
            ]
          },
          "execution_count": 177,
          "metadata": {},
          "output_type": "execute_result"
        }
      ],
      "source": [
        "df2 = pd.DataFrame()\n",
        "for disease in sub_disease_values:\n",
        "    column_name = f\"Diagnose_{disease}\"\n",
        "    df2[column_name] = df['Value_2'].apply(lambda x: 1 if x == disease else 0)\n",
        "\n",
        "df2"
      ]
    },
    {
      "cell_type": "code",
      "execution_count": null,
      "id": "4367c6c2",
      "metadata": {
        "id": "4367c6c2"
      },
      "outputs": [],
      "source": [
        "df = pd.concat([df, df2], axis=1)"
      ]
    },
    {
      "cell_type": "code",
      "execution_count": null,
      "id": "67afd6f4",
      "metadata": {
        "id": "67afd6f4",
        "outputId": "0bb38780-6013-4ead-8760-758f5712540e"
      },
      "outputs": [
        {
          "data": {
            "text/plain": [
              "(2528667, 169)"
            ]
          },
          "execution_count": 179,
          "metadata": {},
          "output_type": "execute_result"
        }
      ],
      "source": [
        "df.shape"
      ]
    },
    {
      "cell_type": "code",
      "execution_count": null,
      "id": "104b0bd7",
      "metadata": {
        "id": "104b0bd7",
        "outputId": "2a031140-7092-4441-e9f5-36de9560012a"
      },
      "outputs": [
        {
          "data": {
            "text/html": [
              "<div>\n",
              "<style scoped>\n",
              "    .dataframe tbody tr th:only-of-type {\n",
              "        vertical-align: middle;\n",
              "    }\n",
              "\n",
              "    .dataframe tbody tr th {\n",
              "        vertical-align: top;\n",
              "    }\n",
              "\n",
              "    .dataframe thead th {\n",
              "        text-align: right;\n",
              "    }\n",
              "</style>\n",
              "<table border=\"1\" class=\"dataframe\">\n",
              "  <thead>\n",
              "    <tr style=\"text-align: right;\">\n",
              "      <th></th>\n",
              "      <th>Past_Performed</th>\n",
              "      <th>Past_Cardiovascular (R)</th>\n",
              "      <th>Past_Endocrine (R)</th>\n",
              "      <th>Past_Renal  (R)</th>\n",
              "      <th>Past_Gastrointestinal (R)</th>\n",
              "      <th>Past_Pulmonary</th>\n",
              "      <th>Past_Infectious Disease (R)</th>\n",
              "      <th>Past_Not Obtainable</th>\n",
              "      <th>Past_No Health Problems</th>\n",
              "      <th>Past_Hematology</th>\n",
              "      <th>Past_Neurologic</th>\n",
              "      <th>Past_Rheumatic</th>\n",
              "      <th>Past_Not Performed</th>\n",
              "    </tr>\n",
              "  </thead>\n",
              "  <tbody>\n",
              "    <tr>\n",
              "      <th>202</th>\n",
              "      <td>1</td>\n",
              "      <td>0</td>\n",
              "      <td>0</td>\n",
              "      <td>0</td>\n",
              "      <td>0</td>\n",
              "      <td>0</td>\n",
              "      <td>0</td>\n",
              "      <td>0</td>\n",
              "      <td>0</td>\n",
              "      <td>0</td>\n",
              "      <td>0</td>\n",
              "      <td>0</td>\n",
              "      <td>0</td>\n",
              "    </tr>\n",
              "    <tr>\n",
              "      <th>203</th>\n",
              "      <td>0</td>\n",
              "      <td>1</td>\n",
              "      <td>0</td>\n",
              "      <td>0</td>\n",
              "      <td>0</td>\n",
              "      <td>0</td>\n",
              "      <td>0</td>\n",
              "      <td>0</td>\n",
              "      <td>0</td>\n",
              "      <td>0</td>\n",
              "      <td>0</td>\n",
              "      <td>0</td>\n",
              "      <td>0</td>\n",
              "    </tr>\n",
              "    <tr>\n",
              "      <th>204</th>\n",
              "      <td>0</td>\n",
              "      <td>1</td>\n",
              "      <td>0</td>\n",
              "      <td>0</td>\n",
              "      <td>0</td>\n",
              "      <td>0</td>\n",
              "      <td>0</td>\n",
              "      <td>0</td>\n",
              "      <td>0</td>\n",
              "      <td>0</td>\n",
              "      <td>0</td>\n",
              "      <td>0</td>\n",
              "      <td>0</td>\n",
              "    </tr>\n",
              "    <tr>\n",
              "      <th>205</th>\n",
              "      <td>0</td>\n",
              "      <td>1</td>\n",
              "      <td>0</td>\n",
              "      <td>0</td>\n",
              "      <td>0</td>\n",
              "      <td>0</td>\n",
              "      <td>0</td>\n",
              "      <td>0</td>\n",
              "      <td>0</td>\n",
              "      <td>0</td>\n",
              "      <td>0</td>\n",
              "      <td>0</td>\n",
              "      <td>0</td>\n",
              "    </tr>\n",
              "    <tr>\n",
              "      <th>206</th>\n",
              "      <td>0</td>\n",
              "      <td>0</td>\n",
              "      <td>1</td>\n",
              "      <td>0</td>\n",
              "      <td>0</td>\n",
              "      <td>0</td>\n",
              "      <td>0</td>\n",
              "      <td>0</td>\n",
              "      <td>0</td>\n",
              "      <td>0</td>\n",
              "      <td>0</td>\n",
              "      <td>0</td>\n",
              "      <td>0</td>\n",
              "    </tr>\n",
              "    <tr>\n",
              "      <th>...</th>\n",
              "      <td>...</td>\n",
              "      <td>...</td>\n",
              "      <td>...</td>\n",
              "      <td>...</td>\n",
              "      <td>...</td>\n",
              "      <td>...</td>\n",
              "      <td>...</td>\n",
              "      <td>...</td>\n",
              "      <td>...</td>\n",
              "      <td>...</td>\n",
              "      <td>...</td>\n",
              "      <td>...</td>\n",
              "      <td>...</td>\n",
              "    </tr>\n",
              "    <tr>\n",
              "      <th>131970103</th>\n",
              "      <td>0</td>\n",
              "      <td>1</td>\n",
              "      <td>0</td>\n",
              "      <td>0</td>\n",
              "      <td>0</td>\n",
              "      <td>0</td>\n",
              "      <td>0</td>\n",
              "      <td>0</td>\n",
              "      <td>0</td>\n",
              "      <td>0</td>\n",
              "      <td>0</td>\n",
              "      <td>0</td>\n",
              "      <td>0</td>\n",
              "    </tr>\n",
              "    <tr>\n",
              "      <th>131970104</th>\n",
              "      <td>1</td>\n",
              "      <td>0</td>\n",
              "      <td>0</td>\n",
              "      <td>0</td>\n",
              "      <td>0</td>\n",
              "      <td>0</td>\n",
              "      <td>0</td>\n",
              "      <td>0</td>\n",
              "      <td>0</td>\n",
              "      <td>0</td>\n",
              "      <td>0</td>\n",
              "      <td>0</td>\n",
              "      <td>0</td>\n",
              "    </tr>\n",
              "    <tr>\n",
              "      <th>131970105</th>\n",
              "      <td>0</td>\n",
              "      <td>0</td>\n",
              "      <td>0</td>\n",
              "      <td>0</td>\n",
              "      <td>0</td>\n",
              "      <td>1</td>\n",
              "      <td>0</td>\n",
              "      <td>0</td>\n",
              "      <td>0</td>\n",
              "      <td>0</td>\n",
              "      <td>0</td>\n",
              "      <td>0</td>\n",
              "      <td>0</td>\n",
              "    </tr>\n",
              "    <tr>\n",
              "      <th>131970106</th>\n",
              "      <td>0</td>\n",
              "      <td>1</td>\n",
              "      <td>0</td>\n",
              "      <td>0</td>\n",
              "      <td>0</td>\n",
              "      <td>0</td>\n",
              "      <td>0</td>\n",
              "      <td>0</td>\n",
              "      <td>0</td>\n",
              "      <td>0</td>\n",
              "      <td>0</td>\n",
              "      <td>0</td>\n",
              "      <td>0</td>\n",
              "    </tr>\n",
              "    <tr>\n",
              "      <th>131970107</th>\n",
              "      <td>1</td>\n",
              "      <td>0</td>\n",
              "      <td>0</td>\n",
              "      <td>0</td>\n",
              "      <td>0</td>\n",
              "      <td>0</td>\n",
              "      <td>0</td>\n",
              "      <td>0</td>\n",
              "      <td>0</td>\n",
              "      <td>0</td>\n",
              "      <td>0</td>\n",
              "      <td>0</td>\n",
              "      <td>0</td>\n",
              "    </tr>\n",
              "  </tbody>\n",
              "</table>\n",
              "<p>2528667 rows × 13 columns</p>\n",
              "</div>"
            ],
            "text/plain": [
              "           Past_Performed  Past_Cardiovascular (R)  Past_Endocrine (R)  \\\n",
              "202                     1                        0                   0   \n",
              "203                     0                        1                   0   \n",
              "204                     0                        1                   0   \n",
              "205                     0                        1                   0   \n",
              "206                     0                        0                   1   \n",
              "...                   ...                      ...                 ...   \n",
              "131970103               0                        1                   0   \n",
              "131970104               1                        0                   0   \n",
              "131970105               0                        0                   0   \n",
              "131970106               0                        1                   0   \n",
              "131970107               1                        0                   0   \n",
              "\n",
              "           Past_Renal  (R)  Past_Gastrointestinal (R)  Past_Pulmonary  \\\n",
              "202                      0                          0               0   \n",
              "203                      0                          0               0   \n",
              "204                      0                          0               0   \n",
              "205                      0                          0               0   \n",
              "206                      0                          0               0   \n",
              "...                    ...                        ...             ...   \n",
              "131970103                0                          0               0   \n",
              "131970104                0                          0               0   \n",
              "131970105                0                          0               1   \n",
              "131970106                0                          0               0   \n",
              "131970107                0                          0               0   \n",
              "\n",
              "           Past_Infectious Disease (R)  Past_Not Obtainable  \\\n",
              "202                                  0                    0   \n",
              "203                                  0                    0   \n",
              "204                                  0                    0   \n",
              "205                                  0                    0   \n",
              "206                                  0                    0   \n",
              "...                                ...                  ...   \n",
              "131970103                            0                    0   \n",
              "131970104                            0                    0   \n",
              "131970105                            0                    0   \n",
              "131970106                            0                    0   \n",
              "131970107                            0                    0   \n",
              "\n",
              "           Past_No Health Problems  Past_Hematology  Past_Neurologic  \\\n",
              "202                              0                0                0   \n",
              "203                              0                0                0   \n",
              "204                              0                0                0   \n",
              "205                              0                0                0   \n",
              "206                              0                0                0   \n",
              "...                            ...              ...              ...   \n",
              "131970103                        0                0                0   \n",
              "131970104                        0                0                0   \n",
              "131970105                        0                0                0   \n",
              "131970106                        0                0                0   \n",
              "131970107                        0                0                0   \n",
              "\n",
              "           Past_Rheumatic  Past_Not Performed  \n",
              "202                     0                   0  \n",
              "203                     0                   0  \n",
              "204                     0                   0  \n",
              "205                     0                   0  \n",
              "206                     0                   0  \n",
              "...                   ...                 ...  \n",
              "131970103               0                   0  \n",
              "131970104               0                   0  \n",
              "131970105               0                   0  \n",
              "131970106               0                   0  \n",
              "131970107               0                   0  \n",
              "\n",
              "[2528667 rows x 13 columns]"
            ]
          },
          "execution_count": 180,
          "metadata": {},
          "output_type": "execute_result"
        }
      ],
      "source": [
        "df2 = pd.DataFrame()\n",
        "for disease in main_past_values:\n",
        "    column_name = f\"Past_{disease}\"\n",
        "    df2[column_name] = df['History_Value_5'].apply(lambda x: 1 if x == disease else 0)\n",
        "df2"
      ]
    },
    {
      "cell_type": "code",
      "execution_count": null,
      "id": "4bd567a1",
      "metadata": {
        "id": "4bd567a1"
      },
      "outputs": [],
      "source": [
        "df = pd.concat([df, df2], axis=1)"
      ]
    },
    {
      "cell_type": "code",
      "execution_count": null,
      "id": "e69072d9",
      "metadata": {
        "id": "e69072d9",
        "outputId": "10e1ed5b-91d4-407b-bba9-224e09eef339"
      },
      "outputs": [
        {
          "data": {
            "text/plain": [
              "(2528667, 182)"
            ]
          },
          "execution_count": 182,
          "metadata": {},
          "output_type": "execute_result"
        }
      ],
      "source": [
        "df.shape"
      ]
    },
    {
      "cell_type": "code",
      "execution_count": null,
      "id": "d42b6ffc",
      "metadata": {
        "id": "d42b6ffc"
      },
      "outputs": [],
      "source": [
        "# df2 = pd.DataFrame()\n",
        "# for disease in sub_past_values:\n",
        "#     column_name = f\"past_{disease}\"\n",
        "#     df2[column_name] = df['History_Value_6'].apply(lambda x: 1 if x == disease else 0)\n",
        "\n",
        "# df2"
      ]
    },
    {
      "cell_type": "code",
      "execution_count": null,
      "id": "ddf9c2a5",
      "metadata": {
        "id": "ddf9c2a5"
      },
      "outputs": [],
      "source": [
        "# df = pd.concat([df, df2], axis=1)"
      ]
    },
    {
      "cell_type": "code",
      "execution_count": null,
      "id": "5a73408e",
      "metadata": {
        "id": "5a73408e"
      },
      "outputs": [],
      "source": [
        "# df.shape"
      ]
    },
    {
      "cell_type": "code",
      "execution_count": null,
      "id": "596c0649",
      "metadata": {
        "id": "596c0649",
        "outputId": "82ffc776-574e-4508-f069-92676b4cb1f9"
      },
      "outputs": [
        {
          "data": {
            "text/plain": [
              "Index(['patientunitstayid', 'patienthealthsystemstayid', 'gender', 'age',\n",
              "       'ethnicity', 'apacheadmissiondx', 'admissionheight',\n",
              "       'hospitaladmitoffset', 'hospitaldischargeoffset', 'unittype',\n",
              "       ...\n",
              "       'Past_Renal  (R)', 'Past_Gastrointestinal (R)', 'Past_Pulmonary',\n",
              "       'Past_Infectious Disease (R)', 'Past_Not Obtainable',\n",
              "       'Past_No Health Problems', 'Past_Hematology', 'Past_Neurologic',\n",
              "       'Past_Rheumatic', 'Past_Not Performed'],\n",
              "      dtype='object', length=182)"
            ]
          },
          "execution_count": 186,
          "metadata": {},
          "output_type": "execute_result"
        }
      ],
      "source": [
        "df.columns"
      ]
    },
    {
      "cell_type": "code",
      "execution_count": null,
      "id": "114490a0",
      "metadata": {
        "id": "114490a0",
        "outputId": "266de200-1182-40c3-f752-066d151ee184"
      },
      "outputs": [
        {
          "name": "stdout",
          "output_type": "stream",
          "text": [
            "patientunitstayid                0\n",
            "patienthealthsystemstayid        0\n",
            "gender                         521\n",
            "age                            201\n",
            "ethnicity                    19987\n",
            "                             ...  \n",
            "Past_No Health Problems          0\n",
            "Past_Hematology                  0\n",
            "Past_Neurologic                  0\n",
            "Past_Rheumatic                   0\n",
            "Past_Not Performed               0\n",
            "Length: 182, dtype: int64\n"
          ]
        }
      ],
      "source": [
        "#pd.set_option('display.max_rows',None)\n",
        "print(df.isna().sum())"
      ]
    },
    {
      "cell_type": "code",
      "execution_count": null,
      "id": "ca57b25a",
      "metadata": {
        "id": "ca57b25a",
        "outputId": "1eedc942-c507-46f5-b710-4cd7fdc8c7ae"
      },
      "outputs": [
        {
          "data": {
            "text/plain": [
              "dischargeweight    43.161081\n",
              "dtype: float64"
            ]
          },
          "execution_count": 188,
          "metadata": {},
          "output_type": "execute_result"
        }
      ],
      "source": [
        "missing_values_percentage = df.isna().mean() * 100\n",
        "columns_with_more_than_20_percent_missing  = missing_values_percentage[missing_values_percentage > 20]\n",
        "columns_with_more_than_20_percent_missing"
      ]
    },
    {
      "cell_type": "code",
      "execution_count": null,
      "id": "57634bea",
      "metadata": {
        "id": "57634bea"
      },
      "outputs": [],
      "source": []
    },
    {
      "cell_type": "code",
      "execution_count": null,
      "id": "c4ebc34f",
      "metadata": {
        "id": "c4ebc34f",
        "outputId": "be92e01b-6523-4c25-8fbc-bcafe61a3c28"
      },
      "outputs": [
        {
          "data": {
            "text/plain": [
              "729176"
            ]
          },
          "execution_count": 189,
          "metadata": {},
          "output_type": "execute_result"
        }
      ],
      "source": [
        "df.unitdischargeoffset.max()"
      ]
    },
    {
      "cell_type": "code",
      "execution_count": null,
      "id": "d0d6a797",
      "metadata": {
        "id": "d0d6a797"
      },
      "outputs": [],
      "source": [
        "df = df[df['unitdischargeoffset']<=300000]\n",
        "df = df[df['unitdischargeoffset']>=0]"
      ]
    },
    {
      "cell_type": "code",
      "execution_count": null,
      "id": "670ee25a",
      "metadata": {
        "id": "670ee25a"
      },
      "outputs": [],
      "source": [
        "df_cleaned = df.groupby('patientunitstayid').max().reset_index()\n",
        "df=df_cleaned"
      ]
    },
    {
      "cell_type": "code",
      "execution_count": null,
      "id": "6f6af8ad",
      "metadata": {
        "id": "6f6af8ad"
      },
      "outputs": [],
      "source": [
        "df=df_cleaned"
      ]
    },
    {
      "cell_type": "code",
      "execution_count": null,
      "id": "7d302544",
      "metadata": {
        "id": "7d302544"
      },
      "outputs": [],
      "source": [
        "# df.History_Value_6"
      ]
    },
    {
      "cell_type": "code",
      "execution_count": null,
      "id": "61446548",
      "metadata": {
        "id": "61446548",
        "outputId": "121c2b07-2eac-46cf-ce66-4bc49eef8df7"
      },
      "outputs": [
        {
          "data": {
            "text/plain": [
              "021-239346    26\n",
              "021-120471    26\n",
              "015-76326     24\n",
              "011-1993      22\n",
              "027-37185     20\n",
              "              ..\n",
              "012-59488      1\n",
              "012-61585      1\n",
              "012-69649      1\n",
              "012-24779      1\n",
              "012-13612      1\n",
              "Name: uniquepid, Length: 125213, dtype: int64"
            ]
          },
          "execution_count": 194,
          "metadata": {},
          "output_type": "execute_result"
        }
      ],
      "source": [
        "df.uniquepid.value_counts()"
      ]
    },
    {
      "cell_type": "code",
      "execution_count": null,
      "id": "306317d1",
      "metadata": {
        "id": "306317d1"
      },
      "outputs": [],
      "source": [
        "df = df.drop(columns=[\"patientunitstayid\",'Value_1','Value_2','History_Value_5','dischargeweight', 'unitstaytype'], axis=1)"
      ]
    },
    {
      "cell_type": "code",
      "execution_count": null,
      "id": "cf4fcc9a",
      "metadata": {
        "id": "cf4fcc9a"
      },
      "outputs": [],
      "source": [
        "df['ethnicity']=df['ethnicity'].fillna('unknown')\n",
        "df['gender'] = df['gender'].fillna('unknown')\n",
        "df['unitadmitsource'] = df['unitadmitsource'].fillna('unknown')\n",
        "df['age'] = df['age'].str.replace('>', '')\n",
        "df['age'] = df['age'].str.strip()\n",
        "#df = df.dropna(subset=['age'])\n",
        "# df = df.dropna(subset=['apacheadmissiondx'])\n",
        "# df = df.dropna(subset=['admissionheight'])\n",
        "# df = df.dropna(subset=['admissionweight'])"
      ]
    },
    {
      "cell_type": "code",
      "execution_count": null,
      "id": "b218fc20",
      "metadata": {
        "id": "b218fc20"
      },
      "outputs": [],
      "source": [
        "from sklearn.impute import SimpleImputer\n",
        "\n",
        "# Columns to impute\n",
        "columns_to_impute = ['admissionheight','admissionweight', 'age']\n",
        "\n",
        "# Create SimpleImputer with mean strategy\n",
        "imputer = SimpleImputer(strategy='mean')\n",
        "\n",
        "# Fit and transform the imputer on the selected columns\n",
        "df[columns_to_impute] = imputer.fit_transform(df[columns_to_impute])\n",
        "df[columns_to_impute] = df[columns_to_impute].round(1)\n",
        "\n"
      ]
    },
    {
      "cell_type": "code",
      "execution_count": null,
      "id": "81b1dba7",
      "metadata": {
        "id": "81b1dba7"
      },
      "outputs": [],
      "source": [
        "# df_patient_1 = df_cleaned.set_index('patientunitstayid')\n",
        "# df_patient_2 = df.set_index('patientunitstayid')\n",
        "\n",
        "# count = 0\n",
        "# found = 0\n",
        "# not_found_ids = []\n",
        "# # Iterate through the indices of one DataFrame\n",
        "# for patient_id in df_patient_2.index:\n",
        "#     if patient_id in df_patient_1.index:\n",
        "#         found += 1\n",
        "#     else:\n",
        "#         count += 1\n",
        "#         not_found_ids.append(patient_id)\n",
        "\n",
        "# print(\"Found:\", found)\n",
        "# print(\"Not found:\", count)\n",
        "# df_not_found = pd.DataFrame({'patientunitstayid': not_found_ids})"
      ]
    },
    {
      "cell_type": "code",
      "execution_count": null,
      "id": "2df0f89c",
      "metadata": {
        "id": "2df0f89c"
      },
      "outputs": [],
      "source": [
        "nan = df.isna().sum()"
      ]
    },
    {
      "cell_type": "code",
      "execution_count": null,
      "id": "b216601e",
      "metadata": {
        "id": "b216601e",
        "outputId": "f773966d-8195-40e2-e174-55e50846c6f4"
      },
      "outputs": [
        {
          "name": "stdout",
          "output_type": "stream",
          "text": [
            "patienthealthsystemstayid                          0\n",
            "gender                                             0\n",
            "age                                                0\n",
            "ethnicity                                          0\n",
            "apacheadmissiondx                                  0\n",
            "admissionheight                                    0\n",
            "hospitaladmitoffset                                0\n",
            "hospitaldischargeoffset                            0\n",
            "unittype                                           0\n",
            "unitadmitsource                                    0\n",
            "unitvisitnumber                                    0\n",
            "admissionweight                                    0\n",
            "unitdischargeoffset                                0\n",
            "unitdischargestatus                               15\n",
            "uniquepid                                          0\n",
            "Diagnose_infectious diseases                       0\n",
            "Diagnose_pulmonary                                 0\n",
            "Diagnose_endocrine                                 0\n",
            "Diagnose_neurologic                                0\n",
            "Diagnose_cardiovascular                            0\n",
            "Diagnose_hematology                                0\n",
            "Diagnose_gastrointestinal                          0\n",
            "Diagnose_renal                                     0\n",
            "Diagnose_oncology                                  0\n",
            "Diagnose_burns/trauma                              0\n",
            "Diagnose_toxicology                                0\n",
            "Diagnose_transplant                                0\n",
            "Diagnose_surgery                                   0\n",
            "Diagnose_general                                   0\n",
            "Diagnose_obstetrics/gynecology                     0\n",
            "Diagnose_genitourinary                             0\n",
            "Diagnose_musculoskeletal                           0\n",
            "Diagnose_skin, bone and joint infections           0\n",
            "Diagnose_respiratory failure                       0\n",
            "Diagnose_glucose metabolism                        0\n",
            "Diagnose_altered mental status / pain              0\n",
            "Diagnose_seizures                                  0\n",
            "Diagnose_chest pain / ASHD                         0\n",
            "Diagnose_coagulation disorders                     0\n",
            "Diagnose_GI infections                             0\n",
            "Diagnose_shock / hypotension                       0\n",
            "Diagnose_arrhythmias                               0\n",
            "Diagnose_ventricular disorders                     0\n",
            "Diagnose_GI bleeding / PUD                         0\n",
            "Diagnose_disorder of kidney                        0\n",
            "Diagnose_GU infections                             0\n",
            "Diagnose_disorders of the airways                  0\n",
            "Diagnose_pleural disorders                         0\n",
            "Diagnose_bleeding and red blood cell disorders     0\n",
            "Diagnose_pulmonary infections                      0\n",
            "dtype: int64\n"
          ]
        }
      ],
      "source": [
        "print(nan[:50])"
      ]
    },
    {
      "cell_type": "code",
      "execution_count": null,
      "id": "8b570a20",
      "metadata": {
        "id": "8b570a20"
      },
      "outputs": [],
      "source": [
        "# find = 141194\n",
        "# specific_rows = df_diag[df_diag['patientunitstayid'] == find]\n",
        "# specific_rows"
      ]
    },
    {
      "cell_type": "code",
      "execution_count": null,
      "id": "4b383f63",
      "metadata": {
        "id": "4b383f63"
      },
      "outputs": [],
      "source": [
        "# df = df.drop(columns=[\"patientunitstayid\",'Value_1','Value_2','History_Value_5','History_Value_6','dischargeweight'], axis=1)"
      ]
    },
    {
      "cell_type": "code",
      "execution_count": null,
      "id": "c8d1b05f",
      "metadata": {
        "id": "c8d1b05f"
      },
      "outputs": [],
      "source": [
        "# df['ethnicity']=df['ethnicity'].fillna('unknown')\n",
        "# df['gender'] = df['gender'].fillna('unknown')"
      ]
    },
    {
      "cell_type": "code",
      "execution_count": null,
      "id": "86eb322b",
      "metadata": {
        "id": "86eb322b"
      },
      "outputs": [],
      "source": [
        "# df['age'] = df['age'].str.replace('>', '')\n",
        "# df['age'] = df['age'].str.strip()"
      ]
    },
    {
      "cell_type": "code",
      "execution_count": null,
      "id": "8c915274",
      "metadata": {
        "id": "8c915274"
      },
      "outputs": [],
      "source": [
        "# df['gender'] = df['gender'].fillna('unknown')"
      ]
    },
    {
      "cell_type": "code",
      "execution_count": null,
      "id": "23bdbce8",
      "metadata": {
        "id": "23bdbce8"
      },
      "outputs": [],
      "source": [
        "# find = 141229\n",
        "# specific_rows = df[df['patientunitstayid'] == find]\n",
        "# specific_rows.age.astype(int)"
      ]
    },
    {
      "cell_type": "code",
      "execution_count": null,
      "id": "b0419beb",
      "metadata": {
        "id": "b0419beb"
      },
      "outputs": [],
      "source": [
        "def fillna (column):\n",
        "    values = column.dropna()\n",
        "    n_missing = column.isna().sum()\n",
        "\n",
        "    if n_missing>0:\n",
        "        mode_value = values.mode().iloc[0]\n",
        "        #bootstrap_samples = np.random.choice(values,size =n_missing)\n",
        "        column[column.isna()] = mode_value\n",
        "\n",
        "    return column\n",
        "\n",
        "df = df.apply(fillna, axis=0)"
      ]
    },
    {
      "cell_type": "code",
      "execution_count": null,
      "id": "108fb773",
      "metadata": {
        "id": "108fb773"
      },
      "outputs": [],
      "source": [
        "# df = df.drop_duplicates()"
      ]
    },
    {
      "cell_type": "code",
      "execution_count": null,
      "id": "f55ac514",
      "metadata": {
        "id": "f55ac514"
      },
      "outputs": [],
      "source": [
        "# df = df[df['unitdischargeoffset'] >= 0]"
      ]
    },
    {
      "cell_type": "code",
      "execution_count": null,
      "id": "9ba73988",
      "metadata": {
        "id": "9ba73988",
        "outputId": "6392fe95-1e26-47b4-af71-ab9e1ef557a5"
      },
      "outputs": [
        {
          "data": {
            "text/plain": [
              "Index(['patienthealthsystemstayid', 'gender', 'age', 'ethnicity',\n",
              "       'apacheadmissiondx', 'admissionheight', 'hospitaladmitoffset',\n",
              "       'hospitaldischargeoffset', 'unittype', 'unitadmitsource',\n",
              "       'unitvisitnumber', 'admissionweight', 'unitdischargeoffset',\n",
              "       'unitdischargestatus', 'uniquepid', 'Diagnose_infectious diseases',\n",
              "       'Diagnose_pulmonary', 'Diagnose_endocrine', 'Diagnose_neurologic',\n",
              "       'Diagnose_cardiovascular', 'Diagnose_hematology',\n",
              "       'Diagnose_gastrointestinal', 'Diagnose_renal', 'Diagnose_oncology',\n",
              "       'Diagnose_burns/trauma', 'Diagnose_toxicology', 'Diagnose_transplant',\n",
              "       'Diagnose_surgery', 'Diagnose_general',\n",
              "       'Diagnose_obstetrics/gynecology'],\n",
              "      dtype='object')"
            ]
          },
          "execution_count": 210,
          "metadata": {},
          "output_type": "execute_result"
        }
      ],
      "source": [
        "df.columns[:30]"
      ]
    },
    {
      "cell_type": "code",
      "execution_count": null,
      "id": "800fa880",
      "metadata": {
        "id": "800fa880"
      },
      "outputs": [],
      "source": [
        "# df.to_csv('cleaned_df.csv')"
      ]
    },
    {
      "cell_type": "code",
      "execution_count": null,
      "id": "93bca75a",
      "metadata": {
        "id": "93bca75a",
        "outputId": "427c0f42-e829-40f7-b6bc-7faf287ff181"
      },
      "outputs": [
        {
          "data": {
            "text/plain": [
              "(161950, 176)"
            ]
          },
          "execution_count": 212,
          "metadata": {},
          "output_type": "execute_result"
        }
      ],
      "source": [
        "df.shape"
      ]
    },
    {
      "cell_type": "code",
      "execution_count": null,
      "id": "7799d8a6",
      "metadata": {
        "id": "7799d8a6",
        "outputId": "048b6086-9b52-4335-e9be-9789978ccdca"
      },
      "outputs": [
        {
          "data": {
            "text/plain": [
              "patienthealthsystemstayid    0\n",
              "gender                       0\n",
              "age                          0\n",
              "ethnicity                    0\n",
              "apacheadmissiondx            0\n",
              "                            ..\n",
              "Past_No Health Problems      0\n",
              "Past_Hematology              0\n",
              "Past_Neurologic              0\n",
              "Past_Rheumatic               0\n",
              "Past_Not Performed           0\n",
              "Length: 176, dtype: int64"
            ]
          },
          "execution_count": 213,
          "metadata": {},
          "output_type": "execute_result"
        }
      ],
      "source": [
        "df.isna().sum()"
      ]
    },
    {
      "cell_type": "code",
      "execution_count": null,
      "id": "38c6a19e",
      "metadata": {
        "id": "38c6a19e",
        "outputId": "cd2ede9a-9ee1-46d9-8c52-9acc1215172c"
      },
      "outputs": [
        {
          "data": {
            "text/plain": [
              "0         1\n",
              "1         1\n",
              "2         1\n",
              "3         1\n",
              "4         1\n",
              "         ..\n",
              "161945    1\n",
              "161946    1\n",
              "161947    1\n",
              "161948    1\n",
              "161949    1\n",
              "Name: unitvisitnumber, Length: 161950, dtype: int64"
            ]
          },
          "execution_count": 214,
          "metadata": {},
          "output_type": "execute_result"
        }
      ],
      "source": [
        "df = df.reset_index(drop=True)\n",
        "df.unitvisitnumber"
      ]
    },
    {
      "cell_type": "code",
      "execution_count": null,
      "id": "1e53a1fd",
      "metadata": {
        "id": "1e53a1fd"
      },
      "outputs": [],
      "source": [
        "# df_visit_more_than_one = df[df['unitvisitnumber']>1]"
      ]
    },
    {
      "cell_type": "code",
      "execution_count": null,
      "id": "1d5920b9",
      "metadata": {
        "id": "1d5920b9"
      },
      "outputs": [],
      "source": [
        "# df_visit_more_than_one.unitstaytype.value_counts()"
      ]
    },
    {
      "cell_type": "code",
      "execution_count": null,
      "id": "ad14317e",
      "metadata": {
        "id": "ad14317e"
      },
      "outputs": [],
      "source": [
        "# df_1visit = df[df['unitvisitnumber']==1]"
      ]
    },
    {
      "cell_type": "code",
      "execution_count": null,
      "id": "45b25488",
      "metadata": {
        "id": "45b25488"
      },
      "outputs": [],
      "source": [
        "# users_one_visit = df_1visit[~df_1visit['uniquepid'].isin(df_visit_more_than_one['uniquepid'])]"
      ]
    },
    {
      "cell_type": "code",
      "execution_count": null,
      "id": "0f973ba1",
      "metadata": {
        "id": "0f973ba1"
      },
      "outputs": [],
      "source": [
        "# users_one_visit"
      ]
    },
    {
      "cell_type": "code",
      "execution_count": null,
      "id": "f2cea053",
      "metadata": {
        "id": "f2cea053"
      },
      "outputs": [],
      "source": [
        "# users_first_visit = df_1visit[df_1visit['uniquepid'].isin(df_visit_more_than_one['uniquepid'])]"
      ]
    },
    {
      "cell_type": "code",
      "execution_count": null,
      "id": "949f4f73",
      "metadata": {
        "id": "949f4f73"
      },
      "outputs": [],
      "source": [
        "# users_first_visit"
      ]
    },
    {
      "cell_type": "code",
      "execution_count": null,
      "id": "ab6d9674",
      "metadata": {
        "id": "ab6d9674"
      },
      "outputs": [],
      "source": [
        "# sampled_df = users_one_visit.sample(n=20000, random_state=0)"
      ]
    },
    {
      "cell_type": "code",
      "execution_count": null,
      "id": "b130925d",
      "metadata": {
        "id": "b130925d"
      },
      "outputs": [],
      "source": [
        "# sampled_df.unitstaytype.value_counts()"
      ]
    },
    {
      "cell_type": "code",
      "execution_count": null,
      "id": "d7003393",
      "metadata": {
        "id": "d7003393"
      },
      "outputs": [],
      "source": [
        "# df_readmission = pd.DataFrame()\n",
        "# df_readmission = df_visit_more_than_one"
      ]
    },
    {
      "cell_type": "code",
      "execution_count": null,
      "id": "af79404f",
      "metadata": {
        "id": "af79404f"
      },
      "outputs": [],
      "source": [
        "# df_readmission.loc[df_readmission.unitstaytype == 'stepdown/other'] = 'readmit'\n",
        "# df_readmission.unitstaytype.value_counts()"
      ]
    },
    {
      "cell_type": "code",
      "execution_count": null,
      "id": "0435d099",
      "metadata": {
        "id": "0435d099"
      },
      "outputs": [],
      "source": [
        "# def replace_values(x):\n",
        "#     if x == 'admit' or x == 'transfer' or x == 'stepdown/other':\n",
        "#         return 'readmit'\n",
        "#     elif x == 'readmit':\n",
        "#         return 'readmit'\n",
        "#     else:\n",
        "#         return x\n",
        "# df_readmission['unitstaytype'] = df_readmission['unitstaytype'].apply(replace_values)"
      ]
    },
    {
      "cell_type": "code",
      "execution_count": null,
      "id": "ff06fb11",
      "metadata": {
        "id": "ff06fb11"
      },
      "outputs": [],
      "source": []
    },
    {
      "cell_type": "code",
      "execution_count": null,
      "id": "423dcf6d",
      "metadata": {
        "id": "423dcf6d"
      },
      "outputs": [],
      "source": [
        "# df_readmission.unitstaytype.value_counts()"
      ]
    },
    {
      "cell_type": "code",
      "execution_count": null,
      "id": "289d8532",
      "metadata": {
        "id": "289d8532"
      },
      "outputs": [],
      "source": [
        "# def replace_values2(x):\n",
        "#     if  x == 'stepdown/other':\n",
        "#         return 'admit'\n",
        "#     elif x == 'admit':\n",
        "#         return 'admit'\n",
        "#     else:\n",
        "#         return x\n",
        "# sampled_df['unitstaytype'] = sampled_df['unitstaytype'].apply(replace_values2)"
      ]
    },
    {
      "cell_type": "code",
      "execution_count": null,
      "id": "95c95b48",
      "metadata": {
        "scrolled": true,
        "id": "95c95b48"
      },
      "outputs": [],
      "source": [
        "# def replace_values3(x):\n",
        "#     if x == 'readmit' or x == 'transfer' or x == 'stepdown/other':\n",
        "#         return 'admit'\n",
        "#     elif x == 'admit':\n",
        "#         return 'admit'\n",
        "#     else:\n",
        "#         return x\n",
        "# users_first_visit['unitstaytype'] = users_first_visit['unitstaytype'].apply(replace_values3)"
      ]
    },
    {
      "cell_type": "code",
      "execution_count": null,
      "id": "af6943b8",
      "metadata": {
        "id": "af6943b8"
      },
      "outputs": [],
      "source": [
        "# users_first_visit.unitstaytype.value_counts()"
      ]
    },
    {
      "cell_type": "code",
      "execution_count": null,
      "id": "3bbb77fb",
      "metadata": {
        "id": "3bbb77fb"
      },
      "outputs": [],
      "source": [
        "# df_new = pd.concat([df_readmission, sampled_df], axis=0)"
      ]
    },
    {
      "cell_type": "code",
      "execution_count": null,
      "id": "3447ecd2",
      "metadata": {
        "id": "3447ecd2"
      },
      "outputs": [],
      "source": [
        "# df_new=pd.concat([df_new, users_first_visit], axis=0)"
      ]
    },
    {
      "cell_type": "code",
      "execution_count": null,
      "id": "7909b656",
      "metadata": {
        "id": "7909b656"
      },
      "outputs": [],
      "source": [
        "# df_reg = df"
      ]
    },
    {
      "cell_type": "code",
      "execution_count": null,
      "id": "f5fa676e",
      "metadata": {
        "id": "f5fa676e",
        "outputId": "d85e742d-8c42-4b10-c734-586ce62ff244"
      },
      "outputs": [
        {
          "data": {
            "text/plain": [
              "Index(['patienthealthsystemstayid', 'gender', 'age', 'ethnicity',\n",
              "       'apacheadmissiondx', 'admissionheight', 'hospitaladmitoffset',\n",
              "       'hospitaldischargeoffset', 'unittype', 'unitadmitsource',\n",
              "       'unitvisitnumber', 'admissionweight', 'unitdischargeoffset',\n",
              "       'unitdischargestatus', 'uniquepid', 'Diagnose_infectious diseases',\n",
              "       'Diagnose_pulmonary', 'Diagnose_endocrine', 'Diagnose_neurologic',\n",
              "       'Diagnose_cardiovascular', 'Diagnose_hematology',\n",
              "       'Diagnose_gastrointestinal', 'Diagnose_renal', 'Diagnose_oncology',\n",
              "       'Diagnose_burns/trauma', 'Diagnose_toxicology', 'Diagnose_transplant',\n",
              "       'Diagnose_surgery', 'Diagnose_general',\n",
              "       'Diagnose_obstetrics/gynecology'],\n",
              "      dtype='object')"
            ]
          },
          "execution_count": 234,
          "metadata": {},
          "output_type": "execute_result"
        }
      ],
      "source": [
        "df.columns[:30]"
      ]
    },
    {
      "cell_type": "code",
      "execution_count": null,
      "id": "0830bd52",
      "metadata": {
        "id": "0830bd52"
      },
      "outputs": [],
      "source": [
        "#For each patient ID , for each hospital stay, keep the longest stay\n",
        "\n",
        "def get_longest_negative_offset(df):\n",
        "    # Filter rows where hospitaladmitoffset is negative\n",
        "    df_negative = df[df['hospitaladmitoffset'] <= 0]\n",
        "\n",
        "    # Sort by uniquepid, hospitalstayid, and hospitaladmitoffset\n",
        "    df_negative_sorted = df_negative.sort_values(by=['uniquepid', 'patienthealthsystemstayid', 'hospitaladmitoffset'])\n",
        "\n",
        "    # Group by uniquepid and hospitalstayid and get the first row for each group\n",
        "    longest_offset_df = df_negative_sorted.groupby(['uniquepid', 'patienthealthsystemstayid']).first().reset_index()\n",
        "\n",
        "#     # Filter patients with more than one hospital stay\n",
        "#     patient_hospitalstay_counts = longest_offset_df['uniquepid'].value_counts()\n",
        "#     patients_with_multiple_stays = patient_hospitalstay_counts[patient_hospitalstay_counts > 1].index\n",
        "\n",
        "    return longest_offset_df\n",
        "\n",
        "\n",
        "# Apply the function\n",
        "result_df = get_longest_negative_offset(df)"
      ]
    },
    {
      "cell_type": "code",
      "execution_count": null,
      "id": "00de82e6",
      "metadata": {
        "id": "00de82e6",
        "outputId": "9138d172-c015-435e-aa2a-90b26c3fb244"
      },
      "outputs": [
        {
          "data": {
            "text/plain": [
              "1     128354\n",
              "2      14846\n",
              "3       3080\n",
              "4        784\n",
              "5        273\n",
              "6         99\n",
              "7         43\n",
              "8         18\n",
              "9          9\n",
              "10         4\n",
              "11         2\n",
              "13         2\n",
              "12         2\n",
              "16         1\n",
              "18         1\n",
              "Name: unitvisitnumber, dtype: int64"
            ]
          },
          "execution_count": 236,
          "metadata": {},
          "output_type": "execute_result"
        }
      ],
      "source": [
        "result_df.unitvisitnumber.value_counts()"
      ]
    },
    {
      "cell_type": "code",
      "execution_count": null,
      "id": "924ec580",
      "metadata": {
        "id": "924ec580",
        "outputId": "a48fd784-1e5c-4e58-c275-fae5d1da7376"
      },
      "outputs": [
        {
          "data": {
            "text/plain": [
              "2731781    1\n",
              "193705     1\n",
              "178200     1\n",
              "141169     1\n",
              "183274     1\n",
              "          ..\n",
              "137216     1\n",
              "188445     1\n",
              "155908     1\n",
              "177030     1\n",
              "152389     1\n",
              "Name: patienthealthsystemstayid, Length: 147518, dtype: int64"
            ]
          },
          "execution_count": 237,
          "metadata": {},
          "output_type": "execute_result"
        }
      ],
      "source": [
        "result_df.patienthealthsystemstayid.value_counts()"
      ]
    },
    {
      "cell_type": "code",
      "execution_count": null,
      "id": "eca32f1d",
      "metadata": {
        "id": "eca32f1d"
      },
      "outputs": [],
      "source": [
        "def replace_values(x):\n",
        "    if x == 1:\n",
        "        return 0\n",
        "    elif x > 1:\n",
        "        return 1\n",
        "    else:\n",
        "        return x\n",
        "result_df['unitvisitnumber'] = result_df['unitvisitnumber'].apply(replace_values)"
      ]
    },
    {
      "cell_type": "code",
      "execution_count": null,
      "id": "04d756d5",
      "metadata": {
        "id": "04d756d5",
        "outputId": "e4af0755-8b7e-4a03-a5a3-8b9f631e9889"
      },
      "outputs": [
        {
          "name": "stdout",
          "output_type": "stream",
          "text": [
            "Percentage Difference: 148.04%\n"
          ]
        }
      ],
      "source": [
        "class_counts = result_df['unitvisitnumber'].value_counts()\n",
        "\n",
        "# Assuming there are exactly two classes\n",
        "class1_count = class_counts.iloc[0]\n",
        "class2_count = class_counts.iloc[1]\n",
        "\n",
        "# Calculate the percentage difference\n",
        "percentage_difference = abs(class1_count - class2_count) / ((class1_count + class2_count) / 2) * 100\n",
        "\n",
        "print(f'Percentage Difference: {percentage_difference:.2f}%')"
      ]
    },
    {
      "cell_type": "code",
      "execution_count": null,
      "id": "a427e087",
      "metadata": {
        "id": "a427e087"
      },
      "outputs": [],
      "source": [
        "result_df.to_csv('cleaned_df.csv')\n",
        "df = result_df\n",
        "df_reg = result_df"
      ]
    },
    {
      "cell_type": "code",
      "execution_count": null,
      "id": "88cef70b",
      "metadata": {
        "id": "88cef70b",
        "outputId": "63ca476b-2ee5-4fce-8bb6-3919b9bfa447"
      },
      "outputs": [
        {
          "data": {
            "text/html": [
              "<div>\n",
              "<style scoped>\n",
              "    .dataframe tbody tr th:only-of-type {\n",
              "        vertical-align: middle;\n",
              "    }\n",
              "\n",
              "    .dataframe tbody tr th {\n",
              "        vertical-align: top;\n",
              "    }\n",
              "\n",
              "    .dataframe thead th {\n",
              "        text-align: right;\n",
              "    }\n",
              "</style>\n",
              "<table border=\"1\" class=\"dataframe\">\n",
              "  <thead>\n",
              "    <tr style=\"text-align: right;\">\n",
              "      <th></th>\n",
              "      <th>Unnamed: 0</th>\n",
              "      <th>uniquepid</th>\n",
              "      <th>patienthealthsystemstayid</th>\n",
              "      <th>gender</th>\n",
              "      <th>age</th>\n",
              "      <th>ethnicity</th>\n",
              "      <th>apacheadmissiondx</th>\n",
              "      <th>admissionheight</th>\n",
              "      <th>hospitaladmitoffset</th>\n",
              "      <th>hospitaldischargeoffset</th>\n",
              "      <th>...</th>\n",
              "      <th>Past_Renal  (R)</th>\n",
              "      <th>Past_Gastrointestinal (R)</th>\n",
              "      <th>Past_Pulmonary</th>\n",
              "      <th>Past_Infectious Disease (R)</th>\n",
              "      <th>Past_Not Obtainable</th>\n",
              "      <th>Past_No Health Problems</th>\n",
              "      <th>Past_Hematology</th>\n",
              "      <th>Past_Neurologic</th>\n",
              "      <th>Past_Rheumatic</th>\n",
              "      <th>Past_Not Performed</th>\n",
              "    </tr>\n",
              "  </thead>\n",
              "  <tbody>\n",
              "    <tr>\n",
              "      <th>0</th>\n",
              "      <td>0</td>\n",
              "      <td>002-10009</td>\n",
              "      <td>193705</td>\n",
              "      <td>Female</td>\n",
              "      <td>76.0</td>\n",
              "      <td>Caucasian</td>\n",
              "      <td>GI perforation/rupture, surgery for</td>\n",
              "      <td>160.0</td>\n",
              "      <td>-179</td>\n",
              "      <td>8183</td>\n",
              "      <td>...</td>\n",
              "      <td>0</td>\n",
              "      <td>0</td>\n",
              "      <td>0</td>\n",
              "      <td>0</td>\n",
              "      <td>0</td>\n",
              "      <td>0</td>\n",
              "      <td>1</td>\n",
              "      <td>0</td>\n",
              "      <td>0</td>\n",
              "      <td>0</td>\n",
              "    </tr>\n",
              "    <tr>\n",
              "      <th>1</th>\n",
              "      <td>1</td>\n",
              "      <td>002-10018</td>\n",
              "      <td>178200</td>\n",
              "      <td>Female</td>\n",
              "      <td>29.0</td>\n",
              "      <td>Caucasian</td>\n",
              "      <td>Cardiovascular medical, other</td>\n",
              "      <td>162.6</td>\n",
              "      <td>-4854</td>\n",
              "      <td>18918</td>\n",
              "      <td>...</td>\n",
              "      <td>0</td>\n",
              "      <td>0</td>\n",
              "      <td>0</td>\n",
              "      <td>0</td>\n",
              "      <td>0</td>\n",
              "      <td>1</td>\n",
              "      <td>0</td>\n",
              "      <td>0</td>\n",
              "      <td>0</td>\n",
              "      <td>0</td>\n",
              "    </tr>\n",
              "    <tr>\n",
              "      <th>2</th>\n",
              "      <td>2</td>\n",
              "      <td>002-10034</td>\n",
              "      <td>141169</td>\n",
              "      <td>Female</td>\n",
              "      <td>23.0</td>\n",
              "      <td>Caucasian</td>\n",
              "      <td>GI medical, other</td>\n",
              "      <td>162.6</td>\n",
              "      <td>-3331</td>\n",
              "      <td>4172</td>\n",
              "      <td>...</td>\n",
              "      <td>0</td>\n",
              "      <td>0</td>\n",
              "      <td>0</td>\n",
              "      <td>0</td>\n",
              "      <td>0</td>\n",
              "      <td>0</td>\n",
              "      <td>0</td>\n",
              "      <td>0</td>\n",
              "      <td>0</td>\n",
              "      <td>0</td>\n",
              "    </tr>\n",
              "    <tr>\n",
              "      <th>3</th>\n",
              "      <td>3</td>\n",
              "      <td>002-10050</td>\n",
              "      <td>183274</td>\n",
              "      <td>Female</td>\n",
              "      <td>67.0</td>\n",
              "      <td>Caucasian</td>\n",
              "      <td>Aortic valve replacement (isolated)</td>\n",
              "      <td>160.0</td>\n",
              "      <td>-67</td>\n",
              "      <td>9697</td>\n",
              "      <td>...</td>\n",
              "      <td>0</td>\n",
              "      <td>0</td>\n",
              "      <td>0</td>\n",
              "      <td>0</td>\n",
              "      <td>0</td>\n",
              "      <td>0</td>\n",
              "      <td>0</td>\n",
              "      <td>0</td>\n",
              "      <td>0</td>\n",
              "      <td>0</td>\n",
              "    </tr>\n",
              "    <tr>\n",
              "      <th>4</th>\n",
              "      <td>4</td>\n",
              "      <td>002-10050</td>\n",
              "      <td>190893</td>\n",
              "      <td>Female</td>\n",
              "      <td>68.0</td>\n",
              "      <td>Caucasian</td>\n",
              "      <td>Complications of previous open-heart surgery, ...</td>\n",
              "      <td>162.6</td>\n",
              "      <td>-2140</td>\n",
              "      <td>7772</td>\n",
              "      <td>...</td>\n",
              "      <td>0</td>\n",
              "      <td>0</td>\n",
              "      <td>0</td>\n",
              "      <td>0</td>\n",
              "      <td>0</td>\n",
              "      <td>0</td>\n",
              "      <td>0</td>\n",
              "      <td>0</td>\n",
              "      <td>0</td>\n",
              "      <td>0</td>\n",
              "    </tr>\n",
              "    <tr>\n",
              "      <th>...</th>\n",
              "      <td>...</td>\n",
              "      <td>...</td>\n",
              "      <td>...</td>\n",
              "      <td>...</td>\n",
              "      <td>...</td>\n",
              "      <td>...</td>\n",
              "      <td>...</td>\n",
              "      <td>...</td>\n",
              "      <td>...</td>\n",
              "      <td>...</td>\n",
              "      <td>...</td>\n",
              "      <td>...</td>\n",
              "      <td>...</td>\n",
              "      <td>...</td>\n",
              "      <td>...</td>\n",
              "      <td>...</td>\n",
              "      <td>...</td>\n",
              "      <td>...</td>\n",
              "      <td>...</td>\n",
              "      <td>...</td>\n",
              "      <td>...</td>\n",
              "    </tr>\n",
              "    <tr>\n",
              "      <th>147513</th>\n",
              "      <td>147513</td>\n",
              "      <td>035-9957</td>\n",
              "      <td>2741786</td>\n",
              "      <td>Male</td>\n",
              "      <td>74.0</td>\n",
              "      <td>Caucasian</td>\n",
              "      <td>Head only trauma</td>\n",
              "      <td>182.9</td>\n",
              "      <td>-370</td>\n",
              "      <td>4973</td>\n",
              "      <td>...</td>\n",
              "      <td>0</td>\n",
              "      <td>0</td>\n",
              "      <td>0</td>\n",
              "      <td>0</td>\n",
              "      <td>0</td>\n",
              "      <td>0</td>\n",
              "      <td>0</td>\n",
              "      <td>0</td>\n",
              "      <td>0</td>\n",
              "      <td>0</td>\n",
              "    </tr>\n",
              "    <tr>\n",
              "      <th>147514</th>\n",
              "      <td>147514</td>\n",
              "      <td>035-9959</td>\n",
              "      <td>2731423</td>\n",
              "      <td>Male</td>\n",
              "      <td>44.0</td>\n",
              "      <td>Caucasian</td>\n",
              "      <td>Infarction, acute myocardial (MI)</td>\n",
              "      <td>185.4</td>\n",
              "      <td>0</td>\n",
              "      <td>3873</td>\n",
              "      <td>...</td>\n",
              "      <td>0</td>\n",
              "      <td>0</td>\n",
              "      <td>0</td>\n",
              "      <td>0</td>\n",
              "      <td>0</td>\n",
              "      <td>0</td>\n",
              "      <td>0</td>\n",
              "      <td>0</td>\n",
              "      <td>0</td>\n",
              "      <td>0</td>\n",
              "    </tr>\n",
              "    <tr>\n",
              "      <th>147515</th>\n",
              "      <td>147515</td>\n",
              "      <td>035-996</td>\n",
              "      <td>2736458</td>\n",
              "      <td>Male</td>\n",
              "      <td>55.0</td>\n",
              "      <td>African American</td>\n",
              "      <td>Rhythm disturbance (conduction defect)</td>\n",
              "      <td>190.5</td>\n",
              "      <td>-73</td>\n",
              "      <td>11397</td>\n",
              "      <td>...</td>\n",
              "      <td>1</td>\n",
              "      <td>0</td>\n",
              "      <td>0</td>\n",
              "      <td>0</td>\n",
              "      <td>0</td>\n",
              "      <td>0</td>\n",
              "      <td>0</td>\n",
              "      <td>0</td>\n",
              "      <td>0</td>\n",
              "      <td>0</td>\n",
              "    </tr>\n",
              "    <tr>\n",
              "      <th>147516</th>\n",
              "      <td>147516</td>\n",
              "      <td>035-9966</td>\n",
              "      <td>2742533</td>\n",
              "      <td>Male</td>\n",
              "      <td>60.0</td>\n",
              "      <td>African American</td>\n",
              "      <td>Apnea-sleep; surgery for (i.e., UPPP - uvulopa...</td>\n",
              "      <td>170.1</td>\n",
              "      <td>-261</td>\n",
              "      <td>2945</td>\n",
              "      <td>...</td>\n",
              "      <td>0</td>\n",
              "      <td>0</td>\n",
              "      <td>1</td>\n",
              "      <td>0</td>\n",
              "      <td>0</td>\n",
              "      <td>0</td>\n",
              "      <td>0</td>\n",
              "      <td>0</td>\n",
              "      <td>0</td>\n",
              "      <td>0</td>\n",
              "    </tr>\n",
              "    <tr>\n",
              "      <th>147517</th>\n",
              "      <td>147517</td>\n",
              "      <td>035-9975</td>\n",
              "      <td>2731781</td>\n",
              "      <td>Male</td>\n",
              "      <td>69.0</td>\n",
              "      <td>African American</td>\n",
              "      <td>Aneurysm, abdominal aortic; with rupture</td>\n",
              "      <td>185.4</td>\n",
              "      <td>-342</td>\n",
              "      <td>11198</td>\n",
              "      <td>...</td>\n",
              "      <td>1</td>\n",
              "      <td>0</td>\n",
              "      <td>0</td>\n",
              "      <td>0</td>\n",
              "      <td>0</td>\n",
              "      <td>0</td>\n",
              "      <td>0</td>\n",
              "      <td>0</td>\n",
              "      <td>0</td>\n",
              "      <td>0</td>\n",
              "    </tr>\n",
              "  </tbody>\n",
              "</table>\n",
              "<p>147518 rows × 177 columns</p>\n",
              "</div>"
            ],
            "text/plain": [
              "        Unnamed: 0  uniquepid  patienthealthsystemstayid  gender   age  \\\n",
              "0                0  002-10009                     193705  Female  76.0   \n",
              "1                1  002-10018                     178200  Female  29.0   \n",
              "2                2  002-10034                     141169  Female  23.0   \n",
              "3                3  002-10050                     183274  Female  67.0   \n",
              "4                4  002-10050                     190893  Female  68.0   \n",
              "...            ...        ...                        ...     ...   ...   \n",
              "147513      147513   035-9957                    2741786    Male  74.0   \n",
              "147514      147514   035-9959                    2731423    Male  44.0   \n",
              "147515      147515    035-996                    2736458    Male  55.0   \n",
              "147516      147516   035-9966                    2742533    Male  60.0   \n",
              "147517      147517   035-9975                    2731781    Male  69.0   \n",
              "\n",
              "               ethnicity                                  apacheadmissiondx  \\\n",
              "0              Caucasian                GI perforation/rupture, surgery for   \n",
              "1              Caucasian                      Cardiovascular medical, other   \n",
              "2              Caucasian                                  GI medical, other   \n",
              "3              Caucasian                Aortic valve replacement (isolated)   \n",
              "4              Caucasian  Complications of previous open-heart surgery, ...   \n",
              "...                  ...                                                ...   \n",
              "147513         Caucasian                                   Head only trauma   \n",
              "147514         Caucasian                  Infarction, acute myocardial (MI)   \n",
              "147515  African American             Rhythm disturbance (conduction defect)   \n",
              "147516  African American  Apnea-sleep; surgery for (i.e., UPPP - uvulopa...   \n",
              "147517  African American           Aneurysm, abdominal aortic; with rupture   \n",
              "\n",
              "        admissionheight  hospitaladmitoffset  hospitaldischargeoffset  ...  \\\n",
              "0                 160.0                 -179                     8183  ...   \n",
              "1                 162.6                -4854                    18918  ...   \n",
              "2                 162.6                -3331                     4172  ...   \n",
              "3                 160.0                  -67                     9697  ...   \n",
              "4                 162.6                -2140                     7772  ...   \n",
              "...                 ...                  ...                      ...  ...   \n",
              "147513            182.9                 -370                     4973  ...   \n",
              "147514            185.4                    0                     3873  ...   \n",
              "147515            190.5                  -73                    11397  ...   \n",
              "147516            170.1                 -261                     2945  ...   \n",
              "147517            185.4                 -342                    11198  ...   \n",
              "\n",
              "       Past_Renal  (R) Past_Gastrointestinal (R)  Past_Pulmonary  \\\n",
              "0                    0                         0               0   \n",
              "1                    0                         0               0   \n",
              "2                    0                         0               0   \n",
              "3                    0                         0               0   \n",
              "4                    0                         0               0   \n",
              "...                ...                       ...             ...   \n",
              "147513               0                         0               0   \n",
              "147514               0                         0               0   \n",
              "147515               1                         0               0   \n",
              "147516               0                         0               1   \n",
              "147517               1                         0               0   \n",
              "\n",
              "        Past_Infectious Disease (R)  Past_Not Obtainable  \\\n",
              "0                                 0                    0   \n",
              "1                                 0                    0   \n",
              "2                                 0                    0   \n",
              "3                                 0                    0   \n",
              "4                                 0                    0   \n",
              "...                             ...                  ...   \n",
              "147513                            0                    0   \n",
              "147514                            0                    0   \n",
              "147515                            0                    0   \n",
              "147516                            0                    0   \n",
              "147517                            0                    0   \n",
              "\n",
              "       Past_No Health Problems  Past_Hematology  Past_Neurologic  \\\n",
              "0                            0                1                0   \n",
              "1                            1                0                0   \n",
              "2                            0                0                0   \n",
              "3                            0                0                0   \n",
              "4                            0                0                0   \n",
              "...                        ...              ...              ...   \n",
              "147513                       0                0                0   \n",
              "147514                       0                0                0   \n",
              "147515                       0                0                0   \n",
              "147516                       0                0                0   \n",
              "147517                       0                0                0   \n",
              "\n",
              "        Past_Rheumatic  Past_Not Performed  \n",
              "0                    0                   0  \n",
              "1                    0                   0  \n",
              "2                    0                   0  \n",
              "3                    0                   0  \n",
              "4                    0                   0  \n",
              "...                ...                 ...  \n",
              "147513               0                   0  \n",
              "147514               0                   0  \n",
              "147515               0                   0  \n",
              "147516               0                   0  \n",
              "147517               0                   0  \n",
              "\n",
              "[147518 rows x 177 columns]"
            ]
          },
          "execution_count": 4,
          "metadata": {},
          "output_type": "execute_result"
        }
      ],
      "source": [
        "path =r'cleaned_df.csv'\n",
        "file = open(path)\n",
        "df= pd.read_csv(file)\n",
        "df"
      ]
    },
    {
      "cell_type": "code",
      "execution_count": null,
      "id": "f8fb623a",
      "metadata": {
        "id": "f8fb623a",
        "outputId": "ecf50220-3bac-4aef-97ae-e3e5ae6598bb"
      },
      "outputs": [
        {
          "data": {
            "text/html": [
              "<div>\n",
              "<style scoped>\n",
              "    .dataframe tbody tr th:only-of-type {\n",
              "        vertical-align: middle;\n",
              "    }\n",
              "\n",
              "    .dataframe tbody tr th {\n",
              "        vertical-align: top;\n",
              "    }\n",
              "\n",
              "    .dataframe thead th {\n",
              "        text-align: right;\n",
              "    }\n",
              "</style>\n",
              "<table border=\"1\" class=\"dataframe\">\n",
              "  <thead>\n",
              "    <tr style=\"text-align: right;\">\n",
              "      <th></th>\n",
              "      <th>gender</th>\n",
              "      <th>age</th>\n",
              "      <th>ethnicity</th>\n",
              "      <th>apacheadmissiondx</th>\n",
              "      <th>admissionheight</th>\n",
              "      <th>hospitaladmitoffset</th>\n",
              "      <th>hospitaldischargeoffset</th>\n",
              "      <th>unittype</th>\n",
              "      <th>unitadmitsource</th>\n",
              "      <th>unitvisitnumber</th>\n",
              "      <th>...</th>\n",
              "      <th>Past_Renal  (R)</th>\n",
              "      <th>Past_Gastrointestinal (R)</th>\n",
              "      <th>Past_Pulmonary</th>\n",
              "      <th>Past_Infectious Disease (R)</th>\n",
              "      <th>Past_Not Obtainable</th>\n",
              "      <th>Past_No Health Problems</th>\n",
              "      <th>Past_Hematology</th>\n",
              "      <th>Past_Neurologic</th>\n",
              "      <th>Past_Rheumatic</th>\n",
              "      <th>Past_Not Performed</th>\n",
              "    </tr>\n",
              "  </thead>\n",
              "  <tbody>\n",
              "    <tr>\n",
              "      <th>0</th>\n",
              "      <td>Female</td>\n",
              "      <td>76.0</td>\n",
              "      <td>Caucasian</td>\n",
              "      <td>GI perforation/rupture, surgery for</td>\n",
              "      <td>160.0</td>\n",
              "      <td>-179</td>\n",
              "      <td>8183</td>\n",
              "      <td>Med-Surg ICU</td>\n",
              "      <td>Operating Room</td>\n",
              "      <td>0</td>\n",
              "      <td>...</td>\n",
              "      <td>0</td>\n",
              "      <td>0</td>\n",
              "      <td>0</td>\n",
              "      <td>0</td>\n",
              "      <td>0</td>\n",
              "      <td>0</td>\n",
              "      <td>1</td>\n",
              "      <td>0</td>\n",
              "      <td>0</td>\n",
              "      <td>0</td>\n",
              "    </tr>\n",
              "    <tr>\n",
              "      <th>1</th>\n",
              "      <td>Female</td>\n",
              "      <td>29.0</td>\n",
              "      <td>Caucasian</td>\n",
              "      <td>Cardiovascular medical, other</td>\n",
              "      <td>162.6</td>\n",
              "      <td>-4854</td>\n",
              "      <td>18918</td>\n",
              "      <td>Med-Surg ICU</td>\n",
              "      <td>Floor</td>\n",
              "      <td>0</td>\n",
              "      <td>...</td>\n",
              "      <td>0</td>\n",
              "      <td>0</td>\n",
              "      <td>0</td>\n",
              "      <td>0</td>\n",
              "      <td>0</td>\n",
              "      <td>1</td>\n",
              "      <td>0</td>\n",
              "      <td>0</td>\n",
              "      <td>0</td>\n",
              "      <td>0</td>\n",
              "    </tr>\n",
              "    <tr>\n",
              "      <th>2</th>\n",
              "      <td>Female</td>\n",
              "      <td>23.0</td>\n",
              "      <td>Caucasian</td>\n",
              "      <td>GI medical, other</td>\n",
              "      <td>162.6</td>\n",
              "      <td>-3331</td>\n",
              "      <td>4172</td>\n",
              "      <td>Med-Surg ICU</td>\n",
              "      <td>Floor</td>\n",
              "      <td>0</td>\n",
              "      <td>...</td>\n",
              "      <td>0</td>\n",
              "      <td>0</td>\n",
              "      <td>0</td>\n",
              "      <td>0</td>\n",
              "      <td>0</td>\n",
              "      <td>0</td>\n",
              "      <td>0</td>\n",
              "      <td>0</td>\n",
              "      <td>0</td>\n",
              "      <td>0</td>\n",
              "    </tr>\n",
              "    <tr>\n",
              "      <th>3</th>\n",
              "      <td>Female</td>\n",
              "      <td>67.0</td>\n",
              "      <td>Caucasian</td>\n",
              "      <td>Aortic valve replacement (isolated)</td>\n",
              "      <td>160.0</td>\n",
              "      <td>-67</td>\n",
              "      <td>9697</td>\n",
              "      <td>Med-Surg ICU</td>\n",
              "      <td>Operating Room</td>\n",
              "      <td>0</td>\n",
              "      <td>...</td>\n",
              "      <td>0</td>\n",
              "      <td>0</td>\n",
              "      <td>0</td>\n",
              "      <td>0</td>\n",
              "      <td>0</td>\n",
              "      <td>0</td>\n",
              "      <td>0</td>\n",
              "      <td>0</td>\n",
              "      <td>0</td>\n",
              "      <td>0</td>\n",
              "    </tr>\n",
              "    <tr>\n",
              "      <th>4</th>\n",
              "      <td>Female</td>\n",
              "      <td>68.0</td>\n",
              "      <td>Caucasian</td>\n",
              "      <td>Complications of previous open-heart surgery, ...</td>\n",
              "      <td>162.6</td>\n",
              "      <td>-2140</td>\n",
              "      <td>7772</td>\n",
              "      <td>Med-Surg ICU</td>\n",
              "      <td>Operating Room</td>\n",
              "      <td>0</td>\n",
              "      <td>...</td>\n",
              "      <td>0</td>\n",
              "      <td>0</td>\n",
              "      <td>0</td>\n",
              "      <td>0</td>\n",
              "      <td>0</td>\n",
              "      <td>0</td>\n",
              "      <td>0</td>\n",
              "      <td>0</td>\n",
              "      <td>0</td>\n",
              "      <td>0</td>\n",
              "    </tr>\n",
              "    <tr>\n",
              "      <th>...</th>\n",
              "      <td>...</td>\n",
              "      <td>...</td>\n",
              "      <td>...</td>\n",
              "      <td>...</td>\n",
              "      <td>...</td>\n",
              "      <td>...</td>\n",
              "      <td>...</td>\n",
              "      <td>...</td>\n",
              "      <td>...</td>\n",
              "      <td>...</td>\n",
              "      <td>...</td>\n",
              "      <td>...</td>\n",
              "      <td>...</td>\n",
              "      <td>...</td>\n",
              "      <td>...</td>\n",
              "      <td>...</td>\n",
              "      <td>...</td>\n",
              "      <td>...</td>\n",
              "      <td>...</td>\n",
              "      <td>...</td>\n",
              "      <td>...</td>\n",
              "    </tr>\n",
              "    <tr>\n",
              "      <th>147513</th>\n",
              "      <td>Male</td>\n",
              "      <td>74.0</td>\n",
              "      <td>Caucasian</td>\n",
              "      <td>Head only trauma</td>\n",
              "      <td>182.9</td>\n",
              "      <td>-370</td>\n",
              "      <td>4973</td>\n",
              "      <td>Cardiac ICU</td>\n",
              "      <td>Emergency Department</td>\n",
              "      <td>0</td>\n",
              "      <td>...</td>\n",
              "      <td>0</td>\n",
              "      <td>0</td>\n",
              "      <td>0</td>\n",
              "      <td>0</td>\n",
              "      <td>0</td>\n",
              "      <td>0</td>\n",
              "      <td>0</td>\n",
              "      <td>0</td>\n",
              "      <td>0</td>\n",
              "      <td>0</td>\n",
              "    </tr>\n",
              "    <tr>\n",
              "      <th>147514</th>\n",
              "      <td>Male</td>\n",
              "      <td>44.0</td>\n",
              "      <td>Caucasian</td>\n",
              "      <td>Infarction, acute myocardial (MI)</td>\n",
              "      <td>185.4</td>\n",
              "      <td>0</td>\n",
              "      <td>3873</td>\n",
              "      <td>Cardiac ICU</td>\n",
              "      <td>Direct Admit</td>\n",
              "      <td>0</td>\n",
              "      <td>...</td>\n",
              "      <td>0</td>\n",
              "      <td>0</td>\n",
              "      <td>0</td>\n",
              "      <td>0</td>\n",
              "      <td>0</td>\n",
              "      <td>0</td>\n",
              "      <td>0</td>\n",
              "      <td>0</td>\n",
              "      <td>0</td>\n",
              "      <td>0</td>\n",
              "    </tr>\n",
              "    <tr>\n",
              "      <th>147515</th>\n",
              "      <td>Male</td>\n",
              "      <td>55.0</td>\n",
              "      <td>African American</td>\n",
              "      <td>Rhythm disturbance (conduction defect)</td>\n",
              "      <td>190.5</td>\n",
              "      <td>-73</td>\n",
              "      <td>11397</td>\n",
              "      <td>Cardiac ICU</td>\n",
              "      <td>Emergency Department</td>\n",
              "      <td>0</td>\n",
              "      <td>...</td>\n",
              "      <td>1</td>\n",
              "      <td>0</td>\n",
              "      <td>0</td>\n",
              "      <td>0</td>\n",
              "      <td>0</td>\n",
              "      <td>0</td>\n",
              "      <td>0</td>\n",
              "      <td>0</td>\n",
              "      <td>0</td>\n",
              "      <td>0</td>\n",
              "    </tr>\n",
              "    <tr>\n",
              "      <th>147516</th>\n",
              "      <td>Male</td>\n",
              "      <td>60.0</td>\n",
              "      <td>African American</td>\n",
              "      <td>Apnea-sleep; surgery for (i.e., UPPP - uvulopa...</td>\n",
              "      <td>170.1</td>\n",
              "      <td>-261</td>\n",
              "      <td>2945</td>\n",
              "      <td>MICU</td>\n",
              "      <td>Operating Room</td>\n",
              "      <td>0</td>\n",
              "      <td>...</td>\n",
              "      <td>0</td>\n",
              "      <td>0</td>\n",
              "      <td>1</td>\n",
              "      <td>0</td>\n",
              "      <td>0</td>\n",
              "      <td>0</td>\n",
              "      <td>0</td>\n",
              "      <td>0</td>\n",
              "      <td>0</td>\n",
              "      <td>0</td>\n",
              "    </tr>\n",
              "    <tr>\n",
              "      <th>147517</th>\n",
              "      <td>Male</td>\n",
              "      <td>69.0</td>\n",
              "      <td>African American</td>\n",
              "      <td>Aneurysm, abdominal aortic; with rupture</td>\n",
              "      <td>185.4</td>\n",
              "      <td>-342</td>\n",
              "      <td>11198</td>\n",
              "      <td>CTICU</td>\n",
              "      <td>Operating Room</td>\n",
              "      <td>0</td>\n",
              "      <td>...</td>\n",
              "      <td>1</td>\n",
              "      <td>0</td>\n",
              "      <td>0</td>\n",
              "      <td>0</td>\n",
              "      <td>0</td>\n",
              "      <td>0</td>\n",
              "      <td>0</td>\n",
              "      <td>0</td>\n",
              "      <td>0</td>\n",
              "      <td>0</td>\n",
              "    </tr>\n",
              "  </tbody>\n",
              "</table>\n",
              "<p>147518 rows × 174 columns</p>\n",
              "</div>"
            ],
            "text/plain": [
              "        gender   age         ethnicity  \\\n",
              "0       Female  76.0         Caucasian   \n",
              "1       Female  29.0         Caucasian   \n",
              "2       Female  23.0         Caucasian   \n",
              "3       Female  67.0         Caucasian   \n",
              "4       Female  68.0         Caucasian   \n",
              "...        ...   ...               ...   \n",
              "147513    Male  74.0         Caucasian   \n",
              "147514    Male  44.0         Caucasian   \n",
              "147515    Male  55.0  African American   \n",
              "147516    Male  60.0  African American   \n",
              "147517    Male  69.0  African American   \n",
              "\n",
              "                                        apacheadmissiondx  admissionheight  \\\n",
              "0                     GI perforation/rupture, surgery for            160.0   \n",
              "1                           Cardiovascular medical, other            162.6   \n",
              "2                                       GI medical, other            162.6   \n",
              "3                     Aortic valve replacement (isolated)            160.0   \n",
              "4       Complications of previous open-heart surgery, ...            162.6   \n",
              "...                                                   ...              ...   \n",
              "147513                                   Head only trauma            182.9   \n",
              "147514                  Infarction, acute myocardial (MI)            185.4   \n",
              "147515             Rhythm disturbance (conduction defect)            190.5   \n",
              "147516  Apnea-sleep; surgery for (i.e., UPPP - uvulopa...            170.1   \n",
              "147517           Aneurysm, abdominal aortic; with rupture            185.4   \n",
              "\n",
              "        hospitaladmitoffset  hospitaldischargeoffset      unittype  \\\n",
              "0                      -179                     8183  Med-Surg ICU   \n",
              "1                     -4854                    18918  Med-Surg ICU   \n",
              "2                     -3331                     4172  Med-Surg ICU   \n",
              "3                       -67                     9697  Med-Surg ICU   \n",
              "4                     -2140                     7772  Med-Surg ICU   \n",
              "...                     ...                      ...           ...   \n",
              "147513                 -370                     4973   Cardiac ICU   \n",
              "147514                    0                     3873   Cardiac ICU   \n",
              "147515                  -73                    11397   Cardiac ICU   \n",
              "147516                 -261                     2945          MICU   \n",
              "147517                 -342                    11198         CTICU   \n",
              "\n",
              "             unitadmitsource  unitvisitnumber  ...  Past_Renal  (R)  \\\n",
              "0             Operating Room                0  ...                0   \n",
              "1                      Floor                0  ...                0   \n",
              "2                      Floor                0  ...                0   \n",
              "3             Operating Room                0  ...                0   \n",
              "4             Operating Room                0  ...                0   \n",
              "...                      ...              ...  ...              ...   \n",
              "147513  Emergency Department                0  ...                0   \n",
              "147514          Direct Admit                0  ...                0   \n",
              "147515  Emergency Department                0  ...                1   \n",
              "147516        Operating Room                0  ...                0   \n",
              "147517        Operating Room                0  ...                1   \n",
              "\n",
              "        Past_Gastrointestinal (R) Past_Pulmonary  Past_Infectious Disease (R)  \\\n",
              "0                               0              0                            0   \n",
              "1                               0              0                            0   \n",
              "2                               0              0                            0   \n",
              "3                               0              0                            0   \n",
              "4                               0              0                            0   \n",
              "...                           ...            ...                          ...   \n",
              "147513                          0              0                            0   \n",
              "147514                          0              0                            0   \n",
              "147515                          0              0                            0   \n",
              "147516                          0              1                            0   \n",
              "147517                          0              0                            0   \n",
              "\n",
              "        Past_Not Obtainable  Past_No Health Problems  Past_Hematology  \\\n",
              "0                         0                        0                1   \n",
              "1                         0                        1                0   \n",
              "2                         0                        0                0   \n",
              "3                         0                        0                0   \n",
              "4                         0                        0                0   \n",
              "...                     ...                      ...              ...   \n",
              "147513                    0                        0                0   \n",
              "147514                    0                        0                0   \n",
              "147515                    0                        0                0   \n",
              "147516                    0                        0                0   \n",
              "147517                    0                        0                0   \n",
              "\n",
              "        Past_Neurologic  Past_Rheumatic  Past_Not Performed  \n",
              "0                     0               0                   0  \n",
              "1                     0               0                   0  \n",
              "2                     0               0                   0  \n",
              "3                     0               0                   0  \n",
              "4                     0               0                   0  \n",
              "...                 ...             ...                 ...  \n",
              "147513                0               0                   0  \n",
              "147514                0               0                   0  \n",
              "147515                0               0                   0  \n",
              "147516                0               0                   0  \n",
              "147517                0               0                   0  \n",
              "\n",
              "[147518 rows x 174 columns]"
            ]
          },
          "execution_count": 5,
          "metadata": {},
          "output_type": "execute_result"
        }
      ],
      "source": [
        "df = df.drop( columns=['Unnamed: 0','uniquepid','patienthealthsystemstayid'], axis=1)\n",
        "df"
      ]
    },
    {
      "cell_type": "code",
      "execution_count": null,
      "id": "08ad5349",
      "metadata": {
        "id": "08ad5349"
      },
      "outputs": [],
      "source": [
        "df.to_csv('llm.csv')"
      ]
    }
  ],
  "metadata": {
    "kernelspec": {
      "display_name": "Python 3 (ipykernel)",
      "language": "python",
      "name": "python3"
    },
    "language_info": {
      "codemirror_mode": {
        "name": "ipython",
        "version": 3
      },
      "file_extension": ".py",
      "mimetype": "text/x-python",
      "name": "python",
      "nbconvert_exporter": "python",
      "pygments_lexer": "ipython3",
      "version": "3.11.6"
    },
    "colab": {
      "provenance": []
    }
  },
  "nbformat": 4,
  "nbformat_minor": 5
}